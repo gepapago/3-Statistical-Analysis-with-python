{
  "metadata": {
    "kernelspec": {
      "name": "python",
      "display_name": "Python (Pyodide)",
      "language": "python"
    },
    "language_info": {
      "codemirror_mode": {
        "name": "python",
        "version": 3
      },
      "file_extension": ".py",
      "mimetype": "text/x-python",
      "name": "python",
      "nbconvert_exporter": "python",
      "pygments_lexer": "ipython3",
      "version": "3.8"
    },
    "celltoolbar": "Slideshow"
  },
  "nbformat_minor": 5,
  "nbformat": 4,
  "cells": [
    {
      "id": "b7e6cecc-b6f5-4a84-94d6-cdd3d1848b3c",
      "cell_type": "markdown",
      "source": "# Analysing music preference in Spotify with ANOVA\n\nΕμπνευσμένο από το άρθρο του Economist [Data from Spotify suggest that listeners are gloomiest in February](https://www.economist.com/graphic-detail/2020/02/08/data-from-spotify-suggest-that-listeners-are-gloomiest-in-february).",
      "metadata": {
        "slideshow": {
          "slide_type": "slide"
        }
      }
    },
    {
      "id": "4b7fb870",
      "cell_type": "markdown",
      "source": "* We want to explore the most popular music tracks in the world.\n\n* These are provided by [Spotify Charts](https://spotifycharts.com/).\n\n* Unfortunately, although the data is available in CSV format, we can only download data for each individual week.\n\n* Fortunately, data for some countries and for the entire world, for the period 2017-2019, is available at Zenodo https://doi.org/10.5281/zenodo.4778562:\n\n * Gabriel P. Oliveira, Mariana O. Silva, Danilo B. Seufitelli, Anisio Lacerda, and Mirella M. Moro. Detecting Collaboration Profiles in Success-based Music Genre Networks. In Proceedings of the 21st International Society for Music Information Retrieval Conference (ISMIR 2020), 2020.",
      "metadata": {
        "slideshow": {
          "slide_type": "slide"
        }
      }
    },
    {
      "id": "21d7e048",
      "cell_type": "code",
      "source": "import pandas as pd\nimport numpy as np\nimport scipy.stats as stats\nimport statsmodels.api as sm\nimport statsmodels.formula.api as smf\n\nimport glob\nimport re\nfrom datetime import datetime\n\nimport spotipy\nfrom spotipy.oauth2 import SpotifyClientCredentials\n\nimport matplotlib.pyplot as plt\nimport seaborn as sns\n\n%matplotlib inline",
      "metadata": {
        "slideshow": {
          "slide_type": "slide"
        }
      },
      "outputs": [],
      "execution_count": 1
    },
    {
      "id": "b522c8a3",
      "cell_type": "markdown",
      "source": "* So from Zenodo we can download the file with the popular tracks (`charts.zip`).\n\n* If we unzip the file, we will see that it places the files for each region in a separate directory.\n\n* In each directory, data is stored in weekly files.\n\n* We will read them all, recording the week and region.",
      "metadata": {
        "slideshow": {
          "slide_type": "slide"
        }
      }
    },
    {
      "id": "c408b7bc",
      "cell_type": "code",
      "source": "header = 0\ndfs = []\nfor file in glob.glob('Charts/*/201?/*.csv'):\n    region = file.split('/')[1]\n    dates = re.findall('\\d{4}-\\d{2}-\\d{2}', file.split('/')[-1])\n    weekly_chart = pd.read_csv(file, header=header, sep='\\t')\n    weekly_chart['week_start'] = datetime.strptime(dates[0], '%Y-%m-%d')\n    weekly_chart['week_end'] = datetime.strptime(dates[1], '%Y-%m-%d')\n    weekly_chart['region'] = region\n    dfs.append(weekly_chart)\n\nall_charts = pd.concat(dfs)",
      "metadata": {
        "slideshow": {
          "slide_type": "slide"
        }
      },
      "outputs": [],
      "execution_count": 2
    },
    {
      "id": "healthy-warren",
      "cell_type": "code",
      "source": "all_charts",
      "metadata": {
        "slideshow": {
          "slide_type": "slide"
        }
      },
      "outputs": [
        {
          "data": {
            "text/html": [
              "<div>\n",
              "<style scoped>\n",
              "    .dataframe tbody tr th:only-of-type {\n",
              "        vertical-align: middle;\n",
              "    }\n",
              "\n",
              "    .dataframe tbody tr th {\n",
              "        vertical-align: top;\n",
              "    }\n",
              "\n",
              "    .dataframe thead th {\n",
              "        text-align: right;\n",
              "    }\n",
              "</style>\n",
              "<table border=\"1\" class=\"dataframe\">\n",
              "  <thead>\n",
              "    <tr style=\"text-align: right;\">\n",
              "      <th></th>\n",
              "      <th>position</th>\n",
              "      <th>song_id</th>\n",
              "      <th>song_name</th>\n",
              "      <th>artist</th>\n",
              "      <th>streams</th>\n",
              "      <th>last_week_position</th>\n",
              "      <th>weeks_on_chart</th>\n",
              "      <th>peak_position</th>\n",
              "      <th>position_status</th>\n",
              "      <th>week_start</th>\n",
              "      <th>week_end</th>\n",
              "      <th>region</th>\n",
              "    </tr>\n",
              "  </thead>\n",
              "  <tbody>\n",
              "    <tr>\n",
              "      <th>0</th>\n",
              "      <td>1</td>\n",
              "      <td>7wGoVu4Dady5GV0Sv4UIsx</td>\n",
              "      <td>rockstar</td>\n",
              "      <td>Post Malone</td>\n",
              "      <td>17532665</td>\n",
              "      <td>1.0</td>\n",
              "      <td>3</td>\n",
              "      <td>1</td>\n",
              "      <td>0</td>\n",
              "      <td>2017-10-20</td>\n",
              "      <td>2017-10-27</td>\n",
              "      <td>us</td>\n",
              "    </tr>\n",
              "    <tr>\n",
              "      <th>1</th>\n",
              "      <td>2</td>\n",
              "      <td>75ZvA4QfFiZvzhj2xkaWAh</td>\n",
              "      <td>I Fall Apart</td>\n",
              "      <td>Post Malone</td>\n",
              "      <td>8350785</td>\n",
              "      <td>2.0</td>\n",
              "      <td>6</td>\n",
              "      <td>2</td>\n",
              "      <td>0</td>\n",
              "      <td>2017-10-20</td>\n",
              "      <td>2017-10-27</td>\n",
              "      <td>us</td>\n",
              "    </tr>\n",
              "    <tr>\n",
              "      <th>2</th>\n",
              "      <td>3</td>\n",
              "      <td>2fQrGHiQOvpL9UgPvtYy6G</td>\n",
              "      <td>Bank Account</td>\n",
              "      <td>21 Savage</td>\n",
              "      <td>7589124</td>\n",
              "      <td>4.0</td>\n",
              "      <td>5</td>\n",
              "      <td>3</td>\n",
              "      <td>1</td>\n",
              "      <td>2017-10-20</td>\n",
              "      <td>2017-10-27</td>\n",
              "      <td>us</td>\n",
              "    </tr>\n",
              "    <tr>\n",
              "      <th>3</th>\n",
              "      <td>4</td>\n",
              "      <td>43ZyHQITOjhciSUUNPVRHc</td>\n",
              "      <td>Gucci Gang</td>\n",
              "      <td>Lil Pump</td>\n",
              "      <td>7584237</td>\n",
              "      <td>5.0</td>\n",
              "      <td>3</td>\n",
              "      <td>4</td>\n",
              "      <td>1</td>\n",
              "      <td>2017-10-20</td>\n",
              "      <td>2017-10-27</td>\n",
              "      <td>us</td>\n",
              "    </tr>\n",
              "    <tr>\n",
              "      <th>4</th>\n",
              "      <td>5</td>\n",
              "      <td>5tz69p7tJuGPeMGwNTxYuV</td>\n",
              "      <td>1-800-273-8255</td>\n",
              "      <td>Logic</td>\n",
              "      <td>7527770</td>\n",
              "      <td>3.0</td>\n",
              "      <td>26</td>\n",
              "      <td>1</td>\n",
              "      <td>-2</td>\n",
              "      <td>2017-10-20</td>\n",
              "      <td>2017-10-27</td>\n",
              "      <td>us</td>\n",
              "    </tr>\n",
              "    <tr>\n",
              "      <th>...</th>\n",
              "      <td>...</td>\n",
              "      <td>...</td>\n",
              "      <td>...</td>\n",
              "      <td>...</td>\n",
              "      <td>...</td>\n",
              "      <td>...</td>\n",
              "      <td>...</td>\n",
              "      <td>...</td>\n",
              "      <td>...</td>\n",
              "      <td>...</td>\n",
              "      <td>...</td>\n",
              "      <td>...</td>\n",
              "    </tr>\n",
              "    <tr>\n",
              "      <th>195</th>\n",
              "      <td>196</td>\n",
              "      <td>6kex4EBAj0WHXDKZMEJaaF</td>\n",
              "      <td>Swalla (feat. Nicki Minaj &amp; Ty Dolla $ign)</td>\n",
              "      <td>Jason Derulo</td>\n",
              "      <td>3747830</td>\n",
              "      <td>191.0</td>\n",
              "      <td>52</td>\n",
              "      <td>8</td>\n",
              "      <td>-5</td>\n",
              "      <td>2018-03-02</td>\n",
              "      <td>2018-03-09</td>\n",
              "      <td>global</td>\n",
              "    </tr>\n",
              "    <tr>\n",
              "      <th>196</th>\n",
              "      <td>197</td>\n",
              "      <td>0CokSRCu5hZgPxcZBaEzVE</td>\n",
              "      <td>Glorious (feat. Skylar Grey)</td>\n",
              "      <td>Macklemore</td>\n",
              "      <td>3725286</td>\n",
              "      <td>189.0</td>\n",
              "      <td>24</td>\n",
              "      <td>14</td>\n",
              "      <td>-8</td>\n",
              "      <td>2018-03-02</td>\n",
              "      <td>2018-03-09</td>\n",
              "      <td>global</td>\n",
              "    </tr>\n",
              "    <tr>\n",
              "      <th>197</th>\n",
              "      <td>198</td>\n",
              "      <td>7oK9VyNzrYvRFo7nQEYkWN</td>\n",
              "      <td>Mr. Brightside</td>\n",
              "      <td>The Killers</td>\n",
              "      <td>3717326</td>\n",
              "      <td>195.0</td>\n",
              "      <td>17</td>\n",
              "      <td>148</td>\n",
              "      <td>-3</td>\n",
              "      <td>2018-03-02</td>\n",
              "      <td>2018-03-09</td>\n",
              "      <td>global</td>\n",
              "    </tr>\n",
              "    <tr>\n",
              "      <th>198</th>\n",
              "      <td>199</td>\n",
              "      <td>7EUfNvyCVxQV3oN5ScA2Lb</td>\n",
              "      <td>Next To Me</td>\n",
              "      <td>Imagine Dragons</td>\n",
              "      <td>3681739</td>\n",
              "      <td>122.0</td>\n",
              "      <td>2</td>\n",
              "      <td>122</td>\n",
              "      <td>-77</td>\n",
              "      <td>2018-03-02</td>\n",
              "      <td>2018-03-09</td>\n",
              "      <td>global</td>\n",
              "    </tr>\n",
              "    <tr>\n",
              "      <th>199</th>\n",
              "      <td>200</td>\n",
              "      <td>6u0EAxf1OJTLS7CvInuNd7</td>\n",
              "      <td>Vai malandra (feat. Tropkillaz &amp; DJ Yuri Martins)</td>\n",
              "      <td>Anitta</td>\n",
              "      <td>3676542</td>\n",
              "      <td>177.0</td>\n",
              "      <td>12</td>\n",
              "      <td>30</td>\n",
              "      <td>-23</td>\n",
              "      <td>2018-03-02</td>\n",
              "      <td>2018-03-09</td>\n",
              "      <td>global</td>\n",
              "    </tr>\n",
              "  </tbody>\n",
              "</table>\n",
              "<p>273600 rows × 12 columns</p>\n",
              "</div>"
            ],
            "text/plain": [
              "     position                 song_id  \\\n",
              "0           1  7wGoVu4Dady5GV0Sv4UIsx   \n",
              "1           2  75ZvA4QfFiZvzhj2xkaWAh   \n",
              "2           3  2fQrGHiQOvpL9UgPvtYy6G   \n",
              "3           4  43ZyHQITOjhciSUUNPVRHc   \n",
              "4           5  5tz69p7tJuGPeMGwNTxYuV   \n",
              "..        ...                     ...   \n",
              "195       196  6kex4EBAj0WHXDKZMEJaaF   \n",
              "196       197  0CokSRCu5hZgPxcZBaEzVE   \n",
              "197       198  7oK9VyNzrYvRFo7nQEYkWN   \n",
              "198       199  7EUfNvyCVxQV3oN5ScA2Lb   \n",
              "199       200  6u0EAxf1OJTLS7CvInuNd7   \n",
              "\n",
              "                                             song_name           artist  \\\n",
              "0                                             rockstar      Post Malone   \n",
              "1                                         I Fall Apart      Post Malone   \n",
              "2                                         Bank Account        21 Savage   \n",
              "3                                           Gucci Gang         Lil Pump   \n",
              "4                                       1-800-273-8255            Logic   \n",
              "..                                                 ...              ...   \n",
              "195         Swalla (feat. Nicki Minaj & Ty Dolla $ign)     Jason Derulo   \n",
              "196                       Glorious (feat. Skylar Grey)       Macklemore   \n",
              "197                                     Mr. Brightside      The Killers   \n",
              "198                                         Next To Me  Imagine Dragons   \n",
              "199  Vai malandra (feat. Tropkillaz & DJ Yuri Martins)           Anitta   \n",
              "\n",
              "      streams  last_week_position  weeks_on_chart  peak_position  \\\n",
              "0    17532665                 1.0               3              1   \n",
              "1     8350785                 2.0               6              2   \n",
              "2     7589124                 4.0               5              3   \n",
              "3     7584237                 5.0               3              4   \n",
              "4     7527770                 3.0              26              1   \n",
              "..        ...                 ...             ...            ...   \n",
              "195   3747830               191.0              52              8   \n",
              "196   3725286               189.0              24             14   \n",
              "197   3717326               195.0              17            148   \n",
              "198   3681739               122.0               2            122   \n",
              "199   3676542               177.0              12             30   \n",
              "\n",
              "    position_status week_start   week_end  region  \n",
              "0                 0 2017-10-20 2017-10-27      us  \n",
              "1                 0 2017-10-20 2017-10-27      us  \n",
              "2                 1 2017-10-20 2017-10-27      us  \n",
              "3                 1 2017-10-20 2017-10-27      us  \n",
              "4                -2 2017-10-20 2017-10-27      us  \n",
              "..              ...        ...        ...     ...  \n",
              "195              -5 2018-03-02 2018-03-09  global  \n",
              "196              -8 2018-03-02 2018-03-09  global  \n",
              "197              -3 2018-03-02 2018-03-09  global  \n",
              "198             -77 2018-03-02 2018-03-09  global  \n",
              "199             -23 2018-03-02 2018-03-09  global  \n",
              "\n",
              "[273600 rows x 12 columns]"
            ]
          },
          "execution_count": 3,
          "metadata": {},
          "output_type": "execute_result"
        }
      ],
      "execution_count": 3
    },
    {
      "id": "528348da",
      "cell_type": "markdown",
      "source": "* There are tons of tracks, but not all of them are unique:",
      "metadata": {
        "slideshow": {
          "slide_type": "slide"
        }
      }
    },
    {
      "id": "a0f2559f",
      "cell_type": "code",
      "source": "len(all_charts['song_id'].unique())",
      "metadata": {
        "slideshow": {
          "slide_type": "fragment"
        }
      },
      "outputs": [
        {
          "data": {
            "text/plain": [
              "13880"
            ]
          },
          "execution_count": 4,
          "metadata": {},
          "output_type": "execute_result"
        }
      ],
      "execution_count": 4
    },
    {
      "id": "d12c4665",
      "cell_type": "markdown",
      "source": "* Θα φτιάξουμε ένα αρχείο`spotify_config.py` με τα ακόλουθα περιεχόμενα (όπου `XXX` θα βάλουμε τα δικά μας στοιχεία):\n\n  ```\n  config = {\n      'client_id' : 'XXXXXXXXXXXXXXXXXXXXXXXXXXXXXXXX',\n      'client_secret' :'XXXXXXXXXXXXXXXXXXXXXXXXXXXXXXXX'\n  }\n  ```",
      "metadata": {
        "slideshow": {
          "slide_type": "slide"
        }
      }
    },
    {
      "id": "e19fa008",
      "cell_type": "markdown",
      "source": "* Now we can start using the Spotify API through the [Spotipy](https://spotipy.readthedocs.io) library.",
      "metadata": {
        "slideshow": {
          "slide_type": "slide"
        }
      }
    },
    {
      "id": "42da4d12",
      "cell_type": "code",
      "source": "from spotify_config import config\n\nclient_credentials_manager = SpotifyClientCredentials(config['client_id'],\n                                                      config['client_secret'])\nsp = spotipy.Spotify(client_credentials_manager=client_credentials_manager)",
      "metadata": {
        "slideshow": {
          "slide_type": "fragment"
        }
      },
      "outputs": [],
      "execution_count": 5
    },
    {
      "id": "a1522a81",
      "cell_type": "markdown",
      "source": "* For each of the tracks we have we will request its audio features, or [audio features](https://developer.spotify.com/documentation/web-api/reference/#endpoint-get-several-audio-features ).\n\n* To do this, we will make a dictionary where keys will be `song_id` and values ​​will be the audio characteristics of the corresponding track.",
      "metadata": {
        "slideshow": {
          "slide_type": "slide"
        }
      }
    },
    {
      "id": "c78bd9a2",
      "cell_type": "code",
      "source": "features = {}",
      "metadata": {
        "slideshow": {
          "slide_type": "fragment"
        }
      },
      "outputs": [],
      "execution_count": 6
    },
    {
      "id": "5bbd3d91",
      "cell_type": "markdown",
      "source": "* The call that gives us audio features can request up to 100 at a time, so we should request them in batches of 100.",
      "metadata": {
        "slideshow": {
          "slide_type": "slide"
        }
      }
    },
    {
      "id": "47b1f304",
      "cell_type": "code",
      "source": "all_track_ids = list(all_charts['song_id'].unique())\nstart = 0\nnum_tracks = 100\nwhile start < len(all_track_ids):\n    print(f'getting from {start} to {start+num_tracks}')\n    tracks_batch = all_track_ids[start:start+num_tracks]\n    features_batch = sp.audio_features(tracks_batch)\n    features.update({ track_id : track_features \n                     for track_id, track_features in zip(tracks_batch, features_batch) })\n    start += num_tracks",
      "metadata": {
        "slideshow": {
          "slide_type": "fragment"
        }
      },
      "outputs": [
        {
          "name": "stdout",
          "output_type": "stream",
          "text": [
            "getting from 0 to 100\n",
            "getting from 100 to 200\n",
            "getting from 200 to 300\n",
            "getting from 300 to 400\n",
            "getting from 400 to 500\n",
            "getting from 500 to 600\n",
            "getting from 600 to 700\n",
            "getting from 700 to 800\n",
            "getting from 800 to 900\n",
            "getting from 900 to 1000\n",
            "getting from 1000 to 1100\n",
            "getting from 1100 to 1200\n",
            "getting from 1200 to 1300\n",
            "getting from 1300 to 1400\n",
            "getting from 1400 to 1500\n",
            "getting from 1500 to 1600\n",
            "getting from 1600 to 1700\n",
            "getting from 1700 to 1800\n",
            "getting from 1800 to 1900\n",
            "getting from 1900 to 2000\n",
            "getting from 2000 to 2100\n",
            "getting from 2100 to 2200\n",
            "getting from 2200 to 2300\n",
            "getting from 2300 to 2400\n",
            "getting from 2400 to 2500\n",
            "getting from 2500 to 2600\n",
            "getting from 2600 to 2700\n",
            "getting from 2700 to 2800\n",
            "getting from 2800 to 2900\n",
            "getting from 2900 to 3000\n",
            "getting from 3000 to 3100\n",
            "getting from 3100 to 3200\n",
            "getting from 3200 to 3300\n",
            "getting from 3300 to 3400\n",
            "getting from 3400 to 3500\n",
            "getting from 3500 to 3600\n",
            "getting from 3600 to 3700\n",
            "getting from 3700 to 3800\n",
            "getting from 3800 to 3900\n",
            "getting from 3900 to 4000\n",
            "getting from 4000 to 4100\n",
            "getting from 4100 to 4200\n",
            "getting from 4200 to 4300\n",
            "getting from 4300 to 4400\n",
            "getting from 4400 to 4500\n",
            "getting from 4500 to 4600\n",
            "getting from 4600 to 4700\n",
            "getting from 4700 to 4800\n",
            "getting from 4800 to 4900\n",
            "getting from 4900 to 5000\n",
            "getting from 5000 to 5100\n",
            "getting from 5100 to 5200\n",
            "getting from 5200 to 5300\n",
            "getting from 5300 to 5400\n",
            "getting from 5400 to 5500\n",
            "getting from 5500 to 5600\n",
            "getting from 5600 to 5700\n",
            "getting from 5700 to 5800\n",
            "getting from 5800 to 5900\n",
            "getting from 5900 to 6000\n",
            "getting from 6000 to 6100\n",
            "getting from 6100 to 6200\n",
            "getting from 6200 to 6300\n",
            "getting from 6300 to 6400\n",
            "getting from 6400 to 6500\n",
            "getting from 6500 to 6600\n",
            "getting from 6600 to 6700\n",
            "getting from 6700 to 6800\n",
            "getting from 6800 to 6900\n",
            "getting from 6900 to 7000\n",
            "getting from 7000 to 7100\n",
            "getting from 7100 to 7200\n",
            "getting from 7200 to 7300\n",
            "getting from 7300 to 7400\n",
            "getting from 7400 to 7500\n",
            "getting from 7500 to 7600\n",
            "getting from 7600 to 7700\n",
            "getting from 7700 to 7800\n",
            "getting from 7800 to 7900\n",
            "getting from 7900 to 8000\n",
            "getting from 8000 to 8100\n",
            "getting from 8100 to 8200\n",
            "getting from 8200 to 8300\n",
            "getting from 8300 to 8400\n",
            "getting from 8400 to 8500\n",
            "getting from 8500 to 8600\n",
            "getting from 8600 to 8700\n",
            "getting from 8700 to 8800\n",
            "getting from 8800 to 8900\n",
            "getting from 8900 to 9000\n",
            "getting from 9000 to 9100\n",
            "getting from 9100 to 9200\n",
            "getting from 9200 to 9300\n",
            "getting from 9300 to 9400\n",
            "getting from 9400 to 9500\n",
            "getting from 9500 to 9600\n",
            "getting from 9600 to 9700\n",
            "getting from 9700 to 9800\n",
            "getting from 9800 to 9900\n",
            "getting from 9900 to 10000\n",
            "getting from 10000 to 10100\n",
            "getting from 10100 to 10200\n",
            "getting from 10200 to 10300\n",
            "getting from 10300 to 10400\n",
            "getting from 10400 to 10500\n",
            "getting from 10500 to 10600\n",
            "getting from 10600 to 10700\n",
            "getting from 10700 to 10800\n",
            "getting from 10800 to 10900\n",
            "getting from 10900 to 11000\n",
            "getting from 11000 to 11100\n",
            "getting from 11100 to 11200\n",
            "getting from 11200 to 11300\n",
            "getting from 11300 to 11400\n",
            "getting from 11400 to 11500\n",
            "getting from 11500 to 11600\n",
            "getting from 11600 to 11700\n",
            "getting from 11700 to 11800\n",
            "getting from 11800 to 11900\n",
            "getting from 11900 to 12000\n",
            "getting from 12000 to 12100\n",
            "getting from 12100 to 12200\n",
            "getting from 12200 to 12300\n",
            "getting from 12300 to 12400\n",
            "getting from 12400 to 12500\n",
            "getting from 12500 to 12600\n",
            "getting from 12600 to 12700\n",
            "getting from 12700 to 12800\n",
            "getting from 12800 to 12900\n",
            "getting from 12900 to 13000\n",
            "getting from 13000 to 13100\n",
            "getting from 13100 to 13200\n",
            "getting from 13200 to 13300\n",
            "getting from 13300 to 13400\n",
            "getting from 13400 to 13500\n",
            "getting from 13500 to 13600\n",
            "getting from 13600 to 13700\n",
            "getting from 13700 to 13800\n",
            "getting from 13800 to 13900\n"
          ]
        }
      ],
      "execution_count": 7
    },
    {
      "id": "47dd908f",
      "cell_type": "markdown",
      "source": "* Let's confirm we got everything:",
      "metadata": {
        "slideshow": {
          "slide_type": "slide"
        }
      }
    },
    {
      "id": "f0cca615",
      "cell_type": "code",
      "source": "len(features)",
      "metadata": {
        "slideshow": {
          "slide_type": "fragment"
        }
      },
      "outputs": [
        {
          "data": {
            "text/plain": [
              "13880"
            ]
          },
          "execution_count": 8,
          "metadata": {},
          "output_type": "execute_result"
        }
      ],
      "execution_count": 8
    },
    {
      "id": "b7a5f899",
      "cell_type": "markdown",
      "source": "* Here's what the audio specs look like.\n\n* We will deal with *valence*, which corresponds to the positive mood that a piece exudes.",
      "metadata": {
        "slideshow": {
          "slide_type": "slide"
        }
      }
    },
    {
      "id": "0c05bb47",
      "cell_type": "code",
      "source": "features['1mqlc0vEP9mU1kZgTi6LIQ'] # September by Earth, Wind & Fire",
      "metadata": {
        "slideshow": {
          "slide_type": "fragment"
        }
      },
      "outputs": [
        {
          "data": {
            "text/plain": [
              "{'danceability': 0.693,\n",
              " 'energy': 0.911,\n",
              " 'key': 9,\n",
              " 'loudness': -3.691,\n",
              " 'mode': 1,\n",
              " 'speechiness': 0.0305,\n",
              " 'acousticness': 0.183,\n",
              " 'instrumentalness': 0.000107,\n",
              " 'liveness': 0.3,\n",
              " 'valence': 0.982,\n",
              " 'tempo': 125.895,\n",
              " 'type': 'audio_features',\n",
              " 'id': '1mqlc0vEP9mU1kZgTi6LIQ',\n",
              " 'uri': 'spotify:track:1mqlc0vEP9mU1kZgTi6LIQ',\n",
              " 'track_href': 'https://api.spotify.com/v1/tracks/1mqlc0vEP9mU1kZgTi6LIQ',\n",
              " 'analysis_url': 'https://api.spotify.com/v1/audio-analysis/1mqlc0vEP9mU1kZgTi6LIQ',\n",
              " 'duration_ms': 216520,\n",
              " 'time_signature': 4}"
            ]
          },
          "execution_count": 9,
          "metadata": {},
          "output_type": "execute_result"
        }
      ],
      "execution_count": 9
    },
    {
      "id": "4e62cbdb",
      "cell_type": "markdown",
      "source": "* We will now convert the dictionary to a `DataFrame`.",
      "metadata": {
        "slideshow": {
          "slide_type": "slide"
        }
      }
    },
    {
      "id": "04ec1332",
      "cell_type": "code",
      "source": "tracks = pd.DataFrame.from_dict(features, orient='index')\ntracks",
      "metadata": {
        "slideshow": {
          "slide_type": "fragment"
        }
      },
      "outputs": [
        {
          "data": {
            "text/html": [
              "<div>\n",
              "<style scoped>\n",
              "    .dataframe tbody tr th:only-of-type {\n",
              "        vertical-align: middle;\n",
              "    }\n",
              "\n",
              "    .dataframe tbody tr th {\n",
              "        vertical-align: top;\n",
              "    }\n",
              "\n",
              "    .dataframe thead th {\n",
              "        text-align: right;\n",
              "    }\n",
              "</style>\n",
              "<table border=\"1\" class=\"dataframe\">\n",
              "  <thead>\n",
              "    <tr style=\"text-align: right;\">\n",
              "      <th></th>\n",
              "      <th>danceability</th>\n",
              "      <th>energy</th>\n",
              "      <th>key</th>\n",
              "      <th>loudness</th>\n",
              "      <th>mode</th>\n",
              "      <th>speechiness</th>\n",
              "      <th>acousticness</th>\n",
              "      <th>instrumentalness</th>\n",
              "      <th>liveness</th>\n",
              "      <th>valence</th>\n",
              "      <th>tempo</th>\n",
              "      <th>type</th>\n",
              "      <th>id</th>\n",
              "      <th>uri</th>\n",
              "      <th>track_href</th>\n",
              "      <th>analysis_url</th>\n",
              "      <th>duration_ms</th>\n",
              "      <th>time_signature</th>\n",
              "    </tr>\n",
              "  </thead>\n",
              "  <tbody>\n",
              "    <tr>\n",
              "      <th>7wGoVu4Dady5GV0Sv4UIsx</th>\n",
              "      <td>0.577</td>\n",
              "      <td>0.522</td>\n",
              "      <td>5</td>\n",
              "      <td>-6.594</td>\n",
              "      <td>0</td>\n",
              "      <td>0.0984</td>\n",
              "      <td>0.1300</td>\n",
              "      <td>0.000090</td>\n",
              "      <td>0.1420</td>\n",
              "      <td>0.119</td>\n",
              "      <td>159.772</td>\n",
              "      <td>audio_features</td>\n",
              "      <td>7wGoVu4Dady5GV0Sv4UIsx</td>\n",
              "      <td>spotify:track:7wGoVu4Dady5GV0Sv4UIsx</td>\n",
              "      <td>https://api.spotify.com/v1/tracks/7wGoVu4Dady5...</td>\n",
              "      <td>https://api.spotify.com/v1/audio-analysis/7wGo...</td>\n",
              "      <td>218320</td>\n",
              "      <td>4</td>\n",
              "    </tr>\n",
              "    <tr>\n",
              "      <th>75ZvA4QfFiZvzhj2xkaWAh</th>\n",
              "      <td>0.556</td>\n",
              "      <td>0.538</td>\n",
              "      <td>8</td>\n",
              "      <td>-5.408</td>\n",
              "      <td>0</td>\n",
              "      <td>0.0382</td>\n",
              "      <td>0.0689</td>\n",
              "      <td>0.000000</td>\n",
              "      <td>0.1960</td>\n",
              "      <td>0.291</td>\n",
              "      <td>143.950</td>\n",
              "      <td>audio_features</td>\n",
              "      <td>75ZvA4QfFiZvzhj2xkaWAh</td>\n",
              "      <td>spotify:track:75ZvA4QfFiZvzhj2xkaWAh</td>\n",
              "      <td>https://api.spotify.com/v1/tracks/75ZvA4QfFiZv...</td>\n",
              "      <td>https://api.spotify.com/v1/audio-analysis/75Zv...</td>\n",
              "      <td>223347</td>\n",
              "      <td>4</td>\n",
              "    </tr>\n",
              "    <tr>\n",
              "      <th>2fQrGHiQOvpL9UgPvtYy6G</th>\n",
              "      <td>0.884</td>\n",
              "      <td>0.346</td>\n",
              "      <td>8</td>\n",
              "      <td>-8.228</td>\n",
              "      <td>0</td>\n",
              "      <td>0.3510</td>\n",
              "      <td>0.0151</td>\n",
              "      <td>0.000007</td>\n",
              "      <td>0.0871</td>\n",
              "      <td>0.376</td>\n",
              "      <td>75.016</td>\n",
              "      <td>audio_features</td>\n",
              "      <td>2fQrGHiQOvpL9UgPvtYy6G</td>\n",
              "      <td>spotify:track:2fQrGHiQOvpL9UgPvtYy6G</td>\n",
              "      <td>https://api.spotify.com/v1/tracks/2fQrGHiQOvpL...</td>\n",
              "      <td>https://api.spotify.com/v1/audio-analysis/2fQr...</td>\n",
              "      <td>220307</td>\n",
              "      <td>4</td>\n",
              "    </tr>\n",
              "    <tr>\n",
              "      <th>43ZyHQITOjhciSUUNPVRHc</th>\n",
              "      <td>0.936</td>\n",
              "      <td>0.523</td>\n",
              "      <td>5</td>\n",
              "      <td>-6.710</td>\n",
              "      <td>1</td>\n",
              "      <td>0.0597</td>\n",
              "      <td>0.2390</td>\n",
              "      <td>0.000000</td>\n",
              "      <td>0.1170</td>\n",
              "      <td>0.699</td>\n",
              "      <td>119.889</td>\n",
              "      <td>audio_features</td>\n",
              "      <td>43ZyHQITOjhciSUUNPVRHc</td>\n",
              "      <td>spotify:track:43ZyHQITOjhciSUUNPVRHc</td>\n",
              "      <td>https://api.spotify.com/v1/tracks/43ZyHQITOjhc...</td>\n",
              "      <td>https://api.spotify.com/v1/audio-analysis/43Zy...</td>\n",
              "      <td>124056</td>\n",
              "      <td>4</td>\n",
              "    </tr>\n",
              "    <tr>\n",
              "      <th>5tz69p7tJuGPeMGwNTxYuV</th>\n",
              "      <td>0.620</td>\n",
              "      <td>0.574</td>\n",
              "      <td>5</td>\n",
              "      <td>-7.788</td>\n",
              "      <td>0</td>\n",
              "      <td>0.0479</td>\n",
              "      <td>0.5690</td>\n",
              "      <td>0.000000</td>\n",
              "      <td>0.1900</td>\n",
              "      <td>0.357</td>\n",
              "      <td>100.023</td>\n",
              "      <td>audio_features</td>\n",
              "      <td>5tz69p7tJuGPeMGwNTxYuV</td>\n",
              "      <td>spotify:track:5tz69p7tJuGPeMGwNTxYuV</td>\n",
              "      <td>https://api.spotify.com/v1/tracks/5tz69p7tJuGP...</td>\n",
              "      <td>https://api.spotify.com/v1/audio-analysis/5tz6...</td>\n",
              "      <td>250173</td>\n",
              "      <td>4</td>\n",
              "    </tr>\n",
              "    <tr>\n",
              "      <th>...</th>\n",
              "      <td>...</td>\n",
              "      <td>...</td>\n",
              "      <td>...</td>\n",
              "      <td>...</td>\n",
              "      <td>...</td>\n",
              "      <td>...</td>\n",
              "      <td>...</td>\n",
              "      <td>...</td>\n",
              "      <td>...</td>\n",
              "      <td>...</td>\n",
              "      <td>...</td>\n",
              "      <td>...</td>\n",
              "      <td>...</td>\n",
              "      <td>...</td>\n",
              "      <td>...</td>\n",
              "      <td>...</td>\n",
              "      <td>...</td>\n",
              "      <td>...</td>\n",
              "    </tr>\n",
              "    <tr>\n",
              "      <th>3js3wKPw8VxBWtcXtwyUnA</th>\n",
              "      <td>0.798</td>\n",
              "      <td>0.627</td>\n",
              "      <td>9</td>\n",
              "      <td>-6.234</td>\n",
              "      <td>1</td>\n",
              "      <td>0.1110</td>\n",
              "      <td>0.2630</td>\n",
              "      <td>0.000000</td>\n",
              "      <td>0.2110</td>\n",
              "      <td>0.762</td>\n",
              "      <td>149.989</td>\n",
              "      <td>audio_features</td>\n",
              "      <td>3js3wKPw8VxBWtcXtwyUnA</td>\n",
              "      <td>spotify:track:3js3wKPw8VxBWtcXtwyUnA</td>\n",
              "      <td>https://api.spotify.com/v1/tracks/3js3wKPw8VxB...</td>\n",
              "      <td>https://api.spotify.com/v1/audio-analysis/3js3...</td>\n",
              "      <td>195947</td>\n",
              "      <td>4</td>\n",
              "    </tr>\n",
              "    <tr>\n",
              "      <th>4VVG3HBGaqSNZqIpmewIA6</th>\n",
              "      <td>0.777</td>\n",
              "      <td>0.721</td>\n",
              "      <td>6</td>\n",
              "      <td>-6.097</td>\n",
              "      <td>1</td>\n",
              "      <td>0.0719</td>\n",
              "      <td>0.0774</td>\n",
              "      <td>0.000000</td>\n",
              "      <td>0.0801</td>\n",
              "      <td>0.665</td>\n",
              "      <td>161.976</td>\n",
              "      <td>audio_features</td>\n",
              "      <td>4VVG3HBGaqSNZqIpmewIA6</td>\n",
              "      <td>spotify:track:4VVG3HBGaqSNZqIpmewIA6</td>\n",
              "      <td>https://api.spotify.com/v1/tracks/4VVG3HBGaqSN...</td>\n",
              "      <td>https://api.spotify.com/v1/audio-analysis/4VVG...</td>\n",
              "      <td>205013</td>\n",
              "      <td>4</td>\n",
              "    </tr>\n",
              "    <tr>\n",
              "      <th>6csZYoffpZ7iuSw83x2zVy</th>\n",
              "      <td>0.913</td>\n",
              "      <td>0.788</td>\n",
              "      <td>10</td>\n",
              "      <td>-2.889</td>\n",
              "      <td>0</td>\n",
              "      <td>0.2630</td>\n",
              "      <td>0.0546</td>\n",
              "      <td>0.000640</td>\n",
              "      <td>0.1680</td>\n",
              "      <td>0.544</td>\n",
              "      <td>120.934</td>\n",
              "      <td>audio_features</td>\n",
              "      <td>6csZYoffpZ7iuSw83x2zVy</td>\n",
              "      <td>spotify:track:6csZYoffpZ7iuSw83x2zVy</td>\n",
              "      <td>https://api.spotify.com/v1/tracks/6csZYoffpZ7i...</td>\n",
              "      <td>https://api.spotify.com/v1/audio-analysis/6csZ...</td>\n",
              "      <td>143314</td>\n",
              "      <td>4</td>\n",
              "    </tr>\n",
              "    <tr>\n",
              "      <th>0kHTkvGavvk2MjBTSUtOZx</th>\n",
              "      <td>0.599</td>\n",
              "      <td>0.734</td>\n",
              "      <td>3</td>\n",
              "      <td>-7.568</td>\n",
              "      <td>0</td>\n",
              "      <td>0.4130</td>\n",
              "      <td>0.1960</td>\n",
              "      <td>0.000000</td>\n",
              "      <td>0.1870</td>\n",
              "      <td>0.133</td>\n",
              "      <td>211.842</td>\n",
              "      <td>audio_features</td>\n",
              "      <td>0kHTkvGavvk2MjBTSUtOZx</td>\n",
              "      <td>spotify:track:0kHTkvGavvk2MjBTSUtOZx</td>\n",
              "      <td>https://api.spotify.com/v1/tracks/0kHTkvGavvk2...</td>\n",
              "      <td>https://api.spotify.com/v1/audio-analysis/0kHT...</td>\n",
              "      <td>223787</td>\n",
              "      <td>4</td>\n",
              "    </tr>\n",
              "    <tr>\n",
              "      <th>49VSioK272TASR4r9vRTuP</th>\n",
              "      <td>0.740</td>\n",
              "      <td>0.595</td>\n",
              "      <td>1</td>\n",
              "      <td>-9.082</td>\n",
              "      <td>1</td>\n",
              "      <td>0.0623</td>\n",
              "      <td>0.4860</td>\n",
              "      <td>0.000000</td>\n",
              "      <td>0.1630</td>\n",
              "      <td>0.316</td>\n",
              "      <td>131.960</td>\n",
              "      <td>audio_features</td>\n",
              "      <td>49VSioK272TASR4r9vRTuP</td>\n",
              "      <td>spotify:track:49VSioK272TASR4r9vRTuP</td>\n",
              "      <td>https://api.spotify.com/v1/tracks/49VSioK272TA...</td>\n",
              "      <td>https://api.spotify.com/v1/audio-analysis/49VS...</td>\n",
              "      <td>187273</td>\n",
              "      <td>4</td>\n",
              "    </tr>\n",
              "  </tbody>\n",
              "</table>\n",
              "<p>13880 rows × 18 columns</p>\n",
              "</div>"
            ],
            "text/plain": [
              "                        danceability  energy  key  loudness  mode  \\\n",
              "7wGoVu4Dady5GV0Sv4UIsx         0.577   0.522    5    -6.594     0   \n",
              "75ZvA4QfFiZvzhj2xkaWAh         0.556   0.538    8    -5.408     0   \n",
              "2fQrGHiQOvpL9UgPvtYy6G         0.884   0.346    8    -8.228     0   \n",
              "43ZyHQITOjhciSUUNPVRHc         0.936   0.523    5    -6.710     1   \n",
              "5tz69p7tJuGPeMGwNTxYuV         0.620   0.574    5    -7.788     0   \n",
              "...                              ...     ...  ...       ...   ...   \n",
              "3js3wKPw8VxBWtcXtwyUnA         0.798   0.627    9    -6.234     1   \n",
              "4VVG3HBGaqSNZqIpmewIA6         0.777   0.721    6    -6.097     1   \n",
              "6csZYoffpZ7iuSw83x2zVy         0.913   0.788   10    -2.889     0   \n",
              "0kHTkvGavvk2MjBTSUtOZx         0.599   0.734    3    -7.568     0   \n",
              "49VSioK272TASR4r9vRTuP         0.740   0.595    1    -9.082     1   \n",
              "\n",
              "                        speechiness  acousticness  instrumentalness  liveness  \\\n",
              "7wGoVu4Dady5GV0Sv4UIsx       0.0984        0.1300          0.000090    0.1420   \n",
              "75ZvA4QfFiZvzhj2xkaWAh       0.0382        0.0689          0.000000    0.1960   \n",
              "2fQrGHiQOvpL9UgPvtYy6G       0.3510        0.0151          0.000007    0.0871   \n",
              "43ZyHQITOjhciSUUNPVRHc       0.0597        0.2390          0.000000    0.1170   \n",
              "5tz69p7tJuGPeMGwNTxYuV       0.0479        0.5690          0.000000    0.1900   \n",
              "...                             ...           ...               ...       ...   \n",
              "3js3wKPw8VxBWtcXtwyUnA       0.1110        0.2630          0.000000    0.2110   \n",
              "4VVG3HBGaqSNZqIpmewIA6       0.0719        0.0774          0.000000    0.0801   \n",
              "6csZYoffpZ7iuSw83x2zVy       0.2630        0.0546          0.000640    0.1680   \n",
              "0kHTkvGavvk2MjBTSUtOZx       0.4130        0.1960          0.000000    0.1870   \n",
              "49VSioK272TASR4r9vRTuP       0.0623        0.4860          0.000000    0.1630   \n",
              "\n",
              "                        valence    tempo            type  \\\n",
              "7wGoVu4Dady5GV0Sv4UIsx    0.119  159.772  audio_features   \n",
              "75ZvA4QfFiZvzhj2xkaWAh    0.291  143.950  audio_features   \n",
              "2fQrGHiQOvpL9UgPvtYy6G    0.376   75.016  audio_features   \n",
              "43ZyHQITOjhciSUUNPVRHc    0.699  119.889  audio_features   \n",
              "5tz69p7tJuGPeMGwNTxYuV    0.357  100.023  audio_features   \n",
              "...                         ...      ...             ...   \n",
              "3js3wKPw8VxBWtcXtwyUnA    0.762  149.989  audio_features   \n",
              "4VVG3HBGaqSNZqIpmewIA6    0.665  161.976  audio_features   \n",
              "6csZYoffpZ7iuSw83x2zVy    0.544  120.934  audio_features   \n",
              "0kHTkvGavvk2MjBTSUtOZx    0.133  211.842  audio_features   \n",
              "49VSioK272TASR4r9vRTuP    0.316  131.960  audio_features   \n",
              "\n",
              "                                            id  \\\n",
              "7wGoVu4Dady5GV0Sv4UIsx  7wGoVu4Dady5GV0Sv4UIsx   \n",
              "75ZvA4QfFiZvzhj2xkaWAh  75ZvA4QfFiZvzhj2xkaWAh   \n",
              "2fQrGHiQOvpL9UgPvtYy6G  2fQrGHiQOvpL9UgPvtYy6G   \n",
              "43ZyHQITOjhciSUUNPVRHc  43ZyHQITOjhciSUUNPVRHc   \n",
              "5tz69p7tJuGPeMGwNTxYuV  5tz69p7tJuGPeMGwNTxYuV   \n",
              "...                                        ...   \n",
              "3js3wKPw8VxBWtcXtwyUnA  3js3wKPw8VxBWtcXtwyUnA   \n",
              "4VVG3HBGaqSNZqIpmewIA6  4VVG3HBGaqSNZqIpmewIA6   \n",
              "6csZYoffpZ7iuSw83x2zVy  6csZYoffpZ7iuSw83x2zVy   \n",
              "0kHTkvGavvk2MjBTSUtOZx  0kHTkvGavvk2MjBTSUtOZx   \n",
              "49VSioK272TASR4r9vRTuP  49VSioK272TASR4r9vRTuP   \n",
              "\n",
              "                                                         uri  \\\n",
              "7wGoVu4Dady5GV0Sv4UIsx  spotify:track:7wGoVu4Dady5GV0Sv4UIsx   \n",
              "75ZvA4QfFiZvzhj2xkaWAh  spotify:track:75ZvA4QfFiZvzhj2xkaWAh   \n",
              "2fQrGHiQOvpL9UgPvtYy6G  spotify:track:2fQrGHiQOvpL9UgPvtYy6G   \n",
              "43ZyHQITOjhciSUUNPVRHc  spotify:track:43ZyHQITOjhciSUUNPVRHc   \n",
              "5tz69p7tJuGPeMGwNTxYuV  spotify:track:5tz69p7tJuGPeMGwNTxYuV   \n",
              "...                                                      ...   \n",
              "3js3wKPw8VxBWtcXtwyUnA  spotify:track:3js3wKPw8VxBWtcXtwyUnA   \n",
              "4VVG3HBGaqSNZqIpmewIA6  spotify:track:4VVG3HBGaqSNZqIpmewIA6   \n",
              "6csZYoffpZ7iuSw83x2zVy  spotify:track:6csZYoffpZ7iuSw83x2zVy   \n",
              "0kHTkvGavvk2MjBTSUtOZx  spotify:track:0kHTkvGavvk2MjBTSUtOZx   \n",
              "49VSioK272TASR4r9vRTuP  spotify:track:49VSioK272TASR4r9vRTuP   \n",
              "\n",
              "                                                               track_href  \\\n",
              "7wGoVu4Dady5GV0Sv4UIsx  https://api.spotify.com/v1/tracks/7wGoVu4Dady5...   \n",
              "75ZvA4QfFiZvzhj2xkaWAh  https://api.spotify.com/v1/tracks/75ZvA4QfFiZv...   \n",
              "2fQrGHiQOvpL9UgPvtYy6G  https://api.spotify.com/v1/tracks/2fQrGHiQOvpL...   \n",
              "43ZyHQITOjhciSUUNPVRHc  https://api.spotify.com/v1/tracks/43ZyHQITOjhc...   \n",
              "5tz69p7tJuGPeMGwNTxYuV  https://api.spotify.com/v1/tracks/5tz69p7tJuGP...   \n",
              "...                                                                   ...   \n",
              "3js3wKPw8VxBWtcXtwyUnA  https://api.spotify.com/v1/tracks/3js3wKPw8VxB...   \n",
              "4VVG3HBGaqSNZqIpmewIA6  https://api.spotify.com/v1/tracks/4VVG3HBGaqSN...   \n",
              "6csZYoffpZ7iuSw83x2zVy  https://api.spotify.com/v1/tracks/6csZYoffpZ7i...   \n",
              "0kHTkvGavvk2MjBTSUtOZx  https://api.spotify.com/v1/tracks/0kHTkvGavvk2...   \n",
              "49VSioK272TASR4r9vRTuP  https://api.spotify.com/v1/tracks/49VSioK272TA...   \n",
              "\n",
              "                                                             analysis_url  \\\n",
              "7wGoVu4Dady5GV0Sv4UIsx  https://api.spotify.com/v1/audio-analysis/7wGo...   \n",
              "75ZvA4QfFiZvzhj2xkaWAh  https://api.spotify.com/v1/audio-analysis/75Zv...   \n",
              "2fQrGHiQOvpL9UgPvtYy6G  https://api.spotify.com/v1/audio-analysis/2fQr...   \n",
              "43ZyHQITOjhciSUUNPVRHc  https://api.spotify.com/v1/audio-analysis/43Zy...   \n",
              "5tz69p7tJuGPeMGwNTxYuV  https://api.spotify.com/v1/audio-analysis/5tz6...   \n",
              "...                                                                   ...   \n",
              "3js3wKPw8VxBWtcXtwyUnA  https://api.spotify.com/v1/audio-analysis/3js3...   \n",
              "4VVG3HBGaqSNZqIpmewIA6  https://api.spotify.com/v1/audio-analysis/4VVG...   \n",
              "6csZYoffpZ7iuSw83x2zVy  https://api.spotify.com/v1/audio-analysis/6csZ...   \n",
              "0kHTkvGavvk2MjBTSUtOZx  https://api.spotify.com/v1/audio-analysis/0kHT...   \n",
              "49VSioK272TASR4r9vRTuP  https://api.spotify.com/v1/audio-analysis/49VS...   \n",
              "\n",
              "                        duration_ms  time_signature  \n",
              "7wGoVu4Dady5GV0Sv4UIsx       218320               4  \n",
              "75ZvA4QfFiZvzhj2xkaWAh       223347               4  \n",
              "2fQrGHiQOvpL9UgPvtYy6G       220307               4  \n",
              "43ZyHQITOjhciSUUNPVRHc       124056               4  \n",
              "5tz69p7tJuGPeMGwNTxYuV       250173               4  \n",
              "...                             ...             ...  \n",
              "3js3wKPw8VxBWtcXtwyUnA       195947               4  \n",
              "4VVG3HBGaqSNZqIpmewIA6       205013               4  \n",
              "6csZYoffpZ7iuSw83x2zVy       143314               4  \n",
              "0kHTkvGavvk2MjBTSUtOZx       223787               4  \n",
              "49VSioK272TASR4r9vRTuP       187273               4  \n",
              "\n",
              "[13880 rows x 18 columns]"
            ]
          },
          "execution_count": 10,
          "metadata": {},
          "output_type": "execute_result"
        }
      ],
      "execution_count": 10
    },
    {
      "id": "5114bf72",
      "cell_type": "markdown",
      "source": "* The index contains the code of each track, as does the `id` column, so we'll keep one of the two.",
      "metadata": {
        "slideshow": {
          "slide_type": "slide"
        }
      }
    },
    {
      "id": "e1499fde",
      "cell_type": "code",
      "source": "tracks = tracks.reset_index(drop=True).rename(columns={'id' : 'song_id'})\ntracks",
      "metadata": {
        "slideshow": {
          "slide_type": "fragment"
        }
      },
      "outputs": [
        {
          "data": {
            "text/html": [
              "<div>\n",
              "<style scoped>\n",
              "    .dataframe tbody tr th:only-of-type {\n",
              "        vertical-align: middle;\n",
              "    }\n",
              "\n",
              "    .dataframe tbody tr th {\n",
              "        vertical-align: top;\n",
              "    }\n",
              "\n",
              "    .dataframe thead th {\n",
              "        text-align: right;\n",
              "    }\n",
              "</style>\n",
              "<table border=\"1\" class=\"dataframe\">\n",
              "  <thead>\n",
              "    <tr style=\"text-align: right;\">\n",
              "      <th></th>\n",
              "      <th>danceability</th>\n",
              "      <th>energy</th>\n",
              "      <th>key</th>\n",
              "      <th>loudness</th>\n",
              "      <th>mode</th>\n",
              "      <th>speechiness</th>\n",
              "      <th>acousticness</th>\n",
              "      <th>instrumentalness</th>\n",
              "      <th>liveness</th>\n",
              "      <th>valence</th>\n",
              "      <th>tempo</th>\n",
              "      <th>type</th>\n",
              "      <th>song_id</th>\n",
              "      <th>uri</th>\n",
              "      <th>track_href</th>\n",
              "      <th>analysis_url</th>\n",
              "      <th>duration_ms</th>\n",
              "      <th>time_signature</th>\n",
              "    </tr>\n",
              "  </thead>\n",
              "  <tbody>\n",
              "    <tr>\n",
              "      <th>0</th>\n",
              "      <td>0.577</td>\n",
              "      <td>0.522</td>\n",
              "      <td>5</td>\n",
              "      <td>-6.594</td>\n",
              "      <td>0</td>\n",
              "      <td>0.0984</td>\n",
              "      <td>0.1300</td>\n",
              "      <td>0.000090</td>\n",
              "      <td>0.1420</td>\n",
              "      <td>0.119</td>\n",
              "      <td>159.772</td>\n",
              "      <td>audio_features</td>\n",
              "      <td>7wGoVu4Dady5GV0Sv4UIsx</td>\n",
              "      <td>spotify:track:7wGoVu4Dady5GV0Sv4UIsx</td>\n",
              "      <td>https://api.spotify.com/v1/tracks/7wGoVu4Dady5...</td>\n",
              "      <td>https://api.spotify.com/v1/audio-analysis/7wGo...</td>\n",
              "      <td>218320</td>\n",
              "      <td>4</td>\n",
              "    </tr>\n",
              "    <tr>\n",
              "      <th>1</th>\n",
              "      <td>0.556</td>\n",
              "      <td>0.538</td>\n",
              "      <td>8</td>\n",
              "      <td>-5.408</td>\n",
              "      <td>0</td>\n",
              "      <td>0.0382</td>\n",
              "      <td>0.0689</td>\n",
              "      <td>0.000000</td>\n",
              "      <td>0.1960</td>\n",
              "      <td>0.291</td>\n",
              "      <td>143.950</td>\n",
              "      <td>audio_features</td>\n",
              "      <td>75ZvA4QfFiZvzhj2xkaWAh</td>\n",
              "      <td>spotify:track:75ZvA4QfFiZvzhj2xkaWAh</td>\n",
              "      <td>https://api.spotify.com/v1/tracks/75ZvA4QfFiZv...</td>\n",
              "      <td>https://api.spotify.com/v1/audio-analysis/75Zv...</td>\n",
              "      <td>223347</td>\n",
              "      <td>4</td>\n",
              "    </tr>\n",
              "    <tr>\n",
              "      <th>2</th>\n",
              "      <td>0.884</td>\n",
              "      <td>0.346</td>\n",
              "      <td>8</td>\n",
              "      <td>-8.228</td>\n",
              "      <td>0</td>\n",
              "      <td>0.3510</td>\n",
              "      <td>0.0151</td>\n",
              "      <td>0.000007</td>\n",
              "      <td>0.0871</td>\n",
              "      <td>0.376</td>\n",
              "      <td>75.016</td>\n",
              "      <td>audio_features</td>\n",
              "      <td>2fQrGHiQOvpL9UgPvtYy6G</td>\n",
              "      <td>spotify:track:2fQrGHiQOvpL9UgPvtYy6G</td>\n",
              "      <td>https://api.spotify.com/v1/tracks/2fQrGHiQOvpL...</td>\n",
              "      <td>https://api.spotify.com/v1/audio-analysis/2fQr...</td>\n",
              "      <td>220307</td>\n",
              "      <td>4</td>\n",
              "    </tr>\n",
              "    <tr>\n",
              "      <th>3</th>\n",
              "      <td>0.936</td>\n",
              "      <td>0.523</td>\n",
              "      <td>5</td>\n",
              "      <td>-6.710</td>\n",
              "      <td>1</td>\n",
              "      <td>0.0597</td>\n",
              "      <td>0.2390</td>\n",
              "      <td>0.000000</td>\n",
              "      <td>0.1170</td>\n",
              "      <td>0.699</td>\n",
              "      <td>119.889</td>\n",
              "      <td>audio_features</td>\n",
              "      <td>43ZyHQITOjhciSUUNPVRHc</td>\n",
              "      <td>spotify:track:43ZyHQITOjhciSUUNPVRHc</td>\n",
              "      <td>https://api.spotify.com/v1/tracks/43ZyHQITOjhc...</td>\n",
              "      <td>https://api.spotify.com/v1/audio-analysis/43Zy...</td>\n",
              "      <td>124056</td>\n",
              "      <td>4</td>\n",
              "    </tr>\n",
              "    <tr>\n",
              "      <th>4</th>\n",
              "      <td>0.620</td>\n",
              "      <td>0.574</td>\n",
              "      <td>5</td>\n",
              "      <td>-7.788</td>\n",
              "      <td>0</td>\n",
              "      <td>0.0479</td>\n",
              "      <td>0.5690</td>\n",
              "      <td>0.000000</td>\n",
              "      <td>0.1900</td>\n",
              "      <td>0.357</td>\n",
              "      <td>100.023</td>\n",
              "      <td>audio_features</td>\n",
              "      <td>5tz69p7tJuGPeMGwNTxYuV</td>\n",
              "      <td>spotify:track:5tz69p7tJuGPeMGwNTxYuV</td>\n",
              "      <td>https://api.spotify.com/v1/tracks/5tz69p7tJuGP...</td>\n",
              "      <td>https://api.spotify.com/v1/audio-analysis/5tz6...</td>\n",
              "      <td>250173</td>\n",
              "      <td>4</td>\n",
              "    </tr>\n",
              "    <tr>\n",
              "      <th>...</th>\n",
              "      <td>...</td>\n",
              "      <td>...</td>\n",
              "      <td>...</td>\n",
              "      <td>...</td>\n",
              "      <td>...</td>\n",
              "      <td>...</td>\n",
              "      <td>...</td>\n",
              "      <td>...</td>\n",
              "      <td>...</td>\n",
              "      <td>...</td>\n",
              "      <td>...</td>\n",
              "      <td>...</td>\n",
              "      <td>...</td>\n",
              "      <td>...</td>\n",
              "      <td>...</td>\n",
              "      <td>...</td>\n",
              "      <td>...</td>\n",
              "      <td>...</td>\n",
              "    </tr>\n",
              "    <tr>\n",
              "      <th>13875</th>\n",
              "      <td>0.798</td>\n",
              "      <td>0.627</td>\n",
              "      <td>9</td>\n",
              "      <td>-6.234</td>\n",
              "      <td>1</td>\n",
              "      <td>0.1110</td>\n",
              "      <td>0.2630</td>\n",
              "      <td>0.000000</td>\n",
              "      <td>0.2110</td>\n",
              "      <td>0.762</td>\n",
              "      <td>149.989</td>\n",
              "      <td>audio_features</td>\n",
              "      <td>3js3wKPw8VxBWtcXtwyUnA</td>\n",
              "      <td>spotify:track:3js3wKPw8VxBWtcXtwyUnA</td>\n",
              "      <td>https://api.spotify.com/v1/tracks/3js3wKPw8VxB...</td>\n",
              "      <td>https://api.spotify.com/v1/audio-analysis/3js3...</td>\n",
              "      <td>195947</td>\n",
              "      <td>4</td>\n",
              "    </tr>\n",
              "    <tr>\n",
              "      <th>13876</th>\n",
              "      <td>0.777</td>\n",
              "      <td>0.721</td>\n",
              "      <td>6</td>\n",
              "      <td>-6.097</td>\n",
              "      <td>1</td>\n",
              "      <td>0.0719</td>\n",
              "      <td>0.0774</td>\n",
              "      <td>0.000000</td>\n",
              "      <td>0.0801</td>\n",
              "      <td>0.665</td>\n",
              "      <td>161.976</td>\n",
              "      <td>audio_features</td>\n",
              "      <td>4VVG3HBGaqSNZqIpmewIA6</td>\n",
              "      <td>spotify:track:4VVG3HBGaqSNZqIpmewIA6</td>\n",
              "      <td>https://api.spotify.com/v1/tracks/4VVG3HBGaqSN...</td>\n",
              "      <td>https://api.spotify.com/v1/audio-analysis/4VVG...</td>\n",
              "      <td>205013</td>\n",
              "      <td>4</td>\n",
              "    </tr>\n",
              "    <tr>\n",
              "      <th>13877</th>\n",
              "      <td>0.913</td>\n",
              "      <td>0.788</td>\n",
              "      <td>10</td>\n",
              "      <td>-2.889</td>\n",
              "      <td>0</td>\n",
              "      <td>0.2630</td>\n",
              "      <td>0.0546</td>\n",
              "      <td>0.000640</td>\n",
              "      <td>0.1680</td>\n",
              "      <td>0.544</td>\n",
              "      <td>120.934</td>\n",
              "      <td>audio_features</td>\n",
              "      <td>6csZYoffpZ7iuSw83x2zVy</td>\n",
              "      <td>spotify:track:6csZYoffpZ7iuSw83x2zVy</td>\n",
              "      <td>https://api.spotify.com/v1/tracks/6csZYoffpZ7i...</td>\n",
              "      <td>https://api.spotify.com/v1/audio-analysis/6csZ...</td>\n",
              "      <td>143314</td>\n",
              "      <td>4</td>\n",
              "    </tr>\n",
              "    <tr>\n",
              "      <th>13878</th>\n",
              "      <td>0.599</td>\n",
              "      <td>0.734</td>\n",
              "      <td>3</td>\n",
              "      <td>-7.568</td>\n",
              "      <td>0</td>\n",
              "      <td>0.4130</td>\n",
              "      <td>0.1960</td>\n",
              "      <td>0.000000</td>\n",
              "      <td>0.1870</td>\n",
              "      <td>0.133</td>\n",
              "      <td>211.842</td>\n",
              "      <td>audio_features</td>\n",
              "      <td>0kHTkvGavvk2MjBTSUtOZx</td>\n",
              "      <td>spotify:track:0kHTkvGavvk2MjBTSUtOZx</td>\n",
              "      <td>https://api.spotify.com/v1/tracks/0kHTkvGavvk2...</td>\n",
              "      <td>https://api.spotify.com/v1/audio-analysis/0kHT...</td>\n",
              "      <td>223787</td>\n",
              "      <td>4</td>\n",
              "    </tr>\n",
              "    <tr>\n",
              "      <th>13879</th>\n",
              "      <td>0.740</td>\n",
              "      <td>0.595</td>\n",
              "      <td>1</td>\n",
              "      <td>-9.082</td>\n",
              "      <td>1</td>\n",
              "      <td>0.0623</td>\n",
              "      <td>0.4860</td>\n",
              "      <td>0.000000</td>\n",
              "      <td>0.1630</td>\n",
              "      <td>0.316</td>\n",
              "      <td>131.960</td>\n",
              "      <td>audio_features</td>\n",
              "      <td>49VSioK272TASR4r9vRTuP</td>\n",
              "      <td>spotify:track:49VSioK272TASR4r9vRTuP</td>\n",
              "      <td>https://api.spotify.com/v1/tracks/49VSioK272TA...</td>\n",
              "      <td>https://api.spotify.com/v1/audio-analysis/49VS...</td>\n",
              "      <td>187273</td>\n",
              "      <td>4</td>\n",
              "    </tr>\n",
              "  </tbody>\n",
              "</table>\n",
              "<p>13880 rows × 18 columns</p>\n",
              "</div>"
            ],
            "text/plain": [
              "       danceability  energy  key  loudness  mode  speechiness  acousticness  \\\n",
              "0             0.577   0.522    5    -6.594     0       0.0984        0.1300   \n",
              "1             0.556   0.538    8    -5.408     0       0.0382        0.0689   \n",
              "2             0.884   0.346    8    -8.228     0       0.3510        0.0151   \n",
              "3             0.936   0.523    5    -6.710     1       0.0597        0.2390   \n",
              "4             0.620   0.574    5    -7.788     0       0.0479        0.5690   \n",
              "...             ...     ...  ...       ...   ...          ...           ...   \n",
              "13875         0.798   0.627    9    -6.234     1       0.1110        0.2630   \n",
              "13876         0.777   0.721    6    -6.097     1       0.0719        0.0774   \n",
              "13877         0.913   0.788   10    -2.889     0       0.2630        0.0546   \n",
              "13878         0.599   0.734    3    -7.568     0       0.4130        0.1960   \n",
              "13879         0.740   0.595    1    -9.082     1       0.0623        0.4860   \n",
              "\n",
              "       instrumentalness  liveness  valence    tempo            type  \\\n",
              "0              0.000090    0.1420    0.119  159.772  audio_features   \n",
              "1              0.000000    0.1960    0.291  143.950  audio_features   \n",
              "2              0.000007    0.0871    0.376   75.016  audio_features   \n",
              "3              0.000000    0.1170    0.699  119.889  audio_features   \n",
              "4              0.000000    0.1900    0.357  100.023  audio_features   \n",
              "...                 ...       ...      ...      ...             ...   \n",
              "13875          0.000000    0.2110    0.762  149.989  audio_features   \n",
              "13876          0.000000    0.0801    0.665  161.976  audio_features   \n",
              "13877          0.000640    0.1680    0.544  120.934  audio_features   \n",
              "13878          0.000000    0.1870    0.133  211.842  audio_features   \n",
              "13879          0.000000    0.1630    0.316  131.960  audio_features   \n",
              "\n",
              "                      song_id                                   uri  \\\n",
              "0      7wGoVu4Dady5GV0Sv4UIsx  spotify:track:7wGoVu4Dady5GV0Sv4UIsx   \n",
              "1      75ZvA4QfFiZvzhj2xkaWAh  spotify:track:75ZvA4QfFiZvzhj2xkaWAh   \n",
              "2      2fQrGHiQOvpL9UgPvtYy6G  spotify:track:2fQrGHiQOvpL9UgPvtYy6G   \n",
              "3      43ZyHQITOjhciSUUNPVRHc  spotify:track:43ZyHQITOjhciSUUNPVRHc   \n",
              "4      5tz69p7tJuGPeMGwNTxYuV  spotify:track:5tz69p7tJuGPeMGwNTxYuV   \n",
              "...                       ...                                   ...   \n",
              "13875  3js3wKPw8VxBWtcXtwyUnA  spotify:track:3js3wKPw8VxBWtcXtwyUnA   \n",
              "13876  4VVG3HBGaqSNZqIpmewIA6  spotify:track:4VVG3HBGaqSNZqIpmewIA6   \n",
              "13877  6csZYoffpZ7iuSw83x2zVy  spotify:track:6csZYoffpZ7iuSw83x2zVy   \n",
              "13878  0kHTkvGavvk2MjBTSUtOZx  spotify:track:0kHTkvGavvk2MjBTSUtOZx   \n",
              "13879  49VSioK272TASR4r9vRTuP  spotify:track:49VSioK272TASR4r9vRTuP   \n",
              "\n",
              "                                              track_href  \\\n",
              "0      https://api.spotify.com/v1/tracks/7wGoVu4Dady5...   \n",
              "1      https://api.spotify.com/v1/tracks/75ZvA4QfFiZv...   \n",
              "2      https://api.spotify.com/v1/tracks/2fQrGHiQOvpL...   \n",
              "3      https://api.spotify.com/v1/tracks/43ZyHQITOjhc...   \n",
              "4      https://api.spotify.com/v1/tracks/5tz69p7tJuGP...   \n",
              "...                                                  ...   \n",
              "13875  https://api.spotify.com/v1/tracks/3js3wKPw8VxB...   \n",
              "13876  https://api.spotify.com/v1/tracks/4VVG3HBGaqSN...   \n",
              "13877  https://api.spotify.com/v1/tracks/6csZYoffpZ7i...   \n",
              "13878  https://api.spotify.com/v1/tracks/0kHTkvGavvk2...   \n",
              "13879  https://api.spotify.com/v1/tracks/49VSioK272TA...   \n",
              "\n",
              "                                            analysis_url  duration_ms  \\\n",
              "0      https://api.spotify.com/v1/audio-analysis/7wGo...       218320   \n",
              "1      https://api.spotify.com/v1/audio-analysis/75Zv...       223347   \n",
              "2      https://api.spotify.com/v1/audio-analysis/2fQr...       220307   \n",
              "3      https://api.spotify.com/v1/audio-analysis/43Zy...       124056   \n",
              "4      https://api.spotify.com/v1/audio-analysis/5tz6...       250173   \n",
              "...                                                  ...          ...   \n",
              "13875  https://api.spotify.com/v1/audio-analysis/3js3...       195947   \n",
              "13876  https://api.spotify.com/v1/audio-analysis/4VVG...       205013   \n",
              "13877  https://api.spotify.com/v1/audio-analysis/6csZ...       143314   \n",
              "13878  https://api.spotify.com/v1/audio-analysis/0kHT...       223787   \n",
              "13879  https://api.spotify.com/v1/audio-analysis/49VS...       187273   \n",
              "\n",
              "       time_signature  \n",
              "0                   4  \n",
              "1                   4  \n",
              "2                   4  \n",
              "3                   4  \n",
              "4                   4  \n",
              "...               ...  \n",
              "13875               4  \n",
              "13876               4  \n",
              "13877               4  \n",
              "13878               4  \n",
              "13879               4  \n",
              "\n",
              "[13880 rows x 18 columns]"
            ]
          },
          "execution_count": 11,
          "metadata": {},
          "output_type": "execute_result"
        }
      ],
      "execution_count": 11
    },
    {
      "id": "42ff361e",
      "cell_type": "markdown",
      "source": "* We can now merge the valences of each piece with the data from Zenodo.",
      "metadata": {
        "slideshow": {
          "slide_type": "slide"
        }
      }
    },
    {
      "id": "1ead8846",
      "cell_type": "code",
      "source": "all_charts = pd.merge(all_charts, tracks[['song_id', 'valence']], on='song_id', how='left')\nall_charts",
      "metadata": {
        "slideshow": {
          "slide_type": "slide"
        }
      },
      "outputs": [
        {
          "data": {
            "text/html": [
              "<div>\n",
              "<style scoped>\n",
              "    .dataframe tbody tr th:only-of-type {\n",
              "        vertical-align: middle;\n",
              "    }\n",
              "\n",
              "    .dataframe tbody tr th {\n",
              "        vertical-align: top;\n",
              "    }\n",
              "\n",
              "    .dataframe thead th {\n",
              "        text-align: right;\n",
              "    }\n",
              "</style>\n",
              "<table border=\"1\" class=\"dataframe\">\n",
              "  <thead>\n",
              "    <tr style=\"text-align: right;\">\n",
              "      <th></th>\n",
              "      <th>position</th>\n",
              "      <th>song_id</th>\n",
              "      <th>song_name</th>\n",
              "      <th>artist</th>\n",
              "      <th>streams</th>\n",
              "      <th>last_week_position</th>\n",
              "      <th>weeks_on_chart</th>\n",
              "      <th>peak_position</th>\n",
              "      <th>position_status</th>\n",
              "      <th>week_start</th>\n",
              "      <th>week_end</th>\n",
              "      <th>region</th>\n",
              "      <th>valence</th>\n",
              "    </tr>\n",
              "  </thead>\n",
              "  <tbody>\n",
              "    <tr>\n",
              "      <th>0</th>\n",
              "      <td>1</td>\n",
              "      <td>7wGoVu4Dady5GV0Sv4UIsx</td>\n",
              "      <td>rockstar</td>\n",
              "      <td>Post Malone</td>\n",
              "      <td>17532665</td>\n",
              "      <td>1.0</td>\n",
              "      <td>3</td>\n",
              "      <td>1</td>\n",
              "      <td>0</td>\n",
              "      <td>2017-10-20</td>\n",
              "      <td>2017-10-27</td>\n",
              "      <td>us</td>\n",
              "      <td>0.119</td>\n",
              "    </tr>\n",
              "    <tr>\n",
              "      <th>1</th>\n",
              "      <td>2</td>\n",
              "      <td>75ZvA4QfFiZvzhj2xkaWAh</td>\n",
              "      <td>I Fall Apart</td>\n",
              "      <td>Post Malone</td>\n",
              "      <td>8350785</td>\n",
              "      <td>2.0</td>\n",
              "      <td>6</td>\n",
              "      <td>2</td>\n",
              "      <td>0</td>\n",
              "      <td>2017-10-20</td>\n",
              "      <td>2017-10-27</td>\n",
              "      <td>us</td>\n",
              "      <td>0.291</td>\n",
              "    </tr>\n",
              "    <tr>\n",
              "      <th>2</th>\n",
              "      <td>3</td>\n",
              "      <td>2fQrGHiQOvpL9UgPvtYy6G</td>\n",
              "      <td>Bank Account</td>\n",
              "      <td>21 Savage</td>\n",
              "      <td>7589124</td>\n",
              "      <td>4.0</td>\n",
              "      <td>5</td>\n",
              "      <td>3</td>\n",
              "      <td>1</td>\n",
              "      <td>2017-10-20</td>\n",
              "      <td>2017-10-27</td>\n",
              "      <td>us</td>\n",
              "      <td>0.376</td>\n",
              "    </tr>\n",
              "    <tr>\n",
              "      <th>3</th>\n",
              "      <td>4</td>\n",
              "      <td>43ZyHQITOjhciSUUNPVRHc</td>\n",
              "      <td>Gucci Gang</td>\n",
              "      <td>Lil Pump</td>\n",
              "      <td>7584237</td>\n",
              "      <td>5.0</td>\n",
              "      <td>3</td>\n",
              "      <td>4</td>\n",
              "      <td>1</td>\n",
              "      <td>2017-10-20</td>\n",
              "      <td>2017-10-27</td>\n",
              "      <td>us</td>\n",
              "      <td>0.699</td>\n",
              "    </tr>\n",
              "    <tr>\n",
              "      <th>4</th>\n",
              "      <td>5</td>\n",
              "      <td>5tz69p7tJuGPeMGwNTxYuV</td>\n",
              "      <td>1-800-273-8255</td>\n",
              "      <td>Logic</td>\n",
              "      <td>7527770</td>\n",
              "      <td>3.0</td>\n",
              "      <td>26</td>\n",
              "      <td>1</td>\n",
              "      <td>-2</td>\n",
              "      <td>2017-10-20</td>\n",
              "      <td>2017-10-27</td>\n",
              "      <td>us</td>\n",
              "      <td>0.357</td>\n",
              "    </tr>\n",
              "    <tr>\n",
              "      <th>...</th>\n",
              "      <td>...</td>\n",
              "      <td>...</td>\n",
              "      <td>...</td>\n",
              "      <td>...</td>\n",
              "      <td>...</td>\n",
              "      <td>...</td>\n",
              "      <td>...</td>\n",
              "      <td>...</td>\n",
              "      <td>...</td>\n",
              "      <td>...</td>\n",
              "      <td>...</td>\n",
              "      <td>...</td>\n",
              "      <td>...</td>\n",
              "    </tr>\n",
              "    <tr>\n",
              "      <th>273595</th>\n",
              "      <td>196</td>\n",
              "      <td>6kex4EBAj0WHXDKZMEJaaF</td>\n",
              "      <td>Swalla (feat. Nicki Minaj &amp; Ty Dolla $ign)</td>\n",
              "      <td>Jason Derulo</td>\n",
              "      <td>3747830</td>\n",
              "      <td>191.0</td>\n",
              "      <td>52</td>\n",
              "      <td>8</td>\n",
              "      <td>-5</td>\n",
              "      <td>2018-03-02</td>\n",
              "      <td>2018-03-09</td>\n",
              "      <td>global</td>\n",
              "      <td>0.782</td>\n",
              "    </tr>\n",
              "    <tr>\n",
              "      <th>273596</th>\n",
              "      <td>197</td>\n",
              "      <td>0CokSRCu5hZgPxcZBaEzVE</td>\n",
              "      <td>Glorious (feat. Skylar Grey)</td>\n",
              "      <td>Macklemore</td>\n",
              "      <td>3725286</td>\n",
              "      <td>189.0</td>\n",
              "      <td>24</td>\n",
              "      <td>14</td>\n",
              "      <td>-8</td>\n",
              "      <td>2018-03-02</td>\n",
              "      <td>2018-03-09</td>\n",
              "      <td>global</td>\n",
              "      <td>0.356</td>\n",
              "    </tr>\n",
              "    <tr>\n",
              "      <th>273597</th>\n",
              "      <td>198</td>\n",
              "      <td>7oK9VyNzrYvRFo7nQEYkWN</td>\n",
              "      <td>Mr. Brightside</td>\n",
              "      <td>The Killers</td>\n",
              "      <td>3717326</td>\n",
              "      <td>195.0</td>\n",
              "      <td>17</td>\n",
              "      <td>148</td>\n",
              "      <td>-3</td>\n",
              "      <td>2018-03-02</td>\n",
              "      <td>2018-03-09</td>\n",
              "      <td>global</td>\n",
              "      <td>0.232</td>\n",
              "    </tr>\n",
              "    <tr>\n",
              "      <th>273598</th>\n",
              "      <td>199</td>\n",
              "      <td>7EUfNvyCVxQV3oN5ScA2Lb</td>\n",
              "      <td>Next To Me</td>\n",
              "      <td>Imagine Dragons</td>\n",
              "      <td>3681739</td>\n",
              "      <td>122.0</td>\n",
              "      <td>2</td>\n",
              "      <td>122</td>\n",
              "      <td>-77</td>\n",
              "      <td>2018-03-02</td>\n",
              "      <td>2018-03-09</td>\n",
              "      <td>global</td>\n",
              "      <td>0.351</td>\n",
              "    </tr>\n",
              "    <tr>\n",
              "      <th>273599</th>\n",
              "      <td>200</td>\n",
              "      <td>6u0EAxf1OJTLS7CvInuNd7</td>\n",
              "      <td>Vai malandra (feat. Tropkillaz &amp; DJ Yuri Martins)</td>\n",
              "      <td>Anitta</td>\n",
              "      <td>3676542</td>\n",
              "      <td>177.0</td>\n",
              "      <td>12</td>\n",
              "      <td>30</td>\n",
              "      <td>-23</td>\n",
              "      <td>2018-03-02</td>\n",
              "      <td>2018-03-09</td>\n",
              "      <td>global</td>\n",
              "      <td>0.557</td>\n",
              "    </tr>\n",
              "  </tbody>\n",
              "</table>\n",
              "<p>273600 rows × 13 columns</p>\n",
              "</div>"
            ],
            "text/plain": [
              "        position                 song_id  \\\n",
              "0              1  7wGoVu4Dady5GV0Sv4UIsx   \n",
              "1              2  75ZvA4QfFiZvzhj2xkaWAh   \n",
              "2              3  2fQrGHiQOvpL9UgPvtYy6G   \n",
              "3              4  43ZyHQITOjhciSUUNPVRHc   \n",
              "4              5  5tz69p7tJuGPeMGwNTxYuV   \n",
              "...          ...                     ...   \n",
              "273595       196  6kex4EBAj0WHXDKZMEJaaF   \n",
              "273596       197  0CokSRCu5hZgPxcZBaEzVE   \n",
              "273597       198  7oK9VyNzrYvRFo7nQEYkWN   \n",
              "273598       199  7EUfNvyCVxQV3oN5ScA2Lb   \n",
              "273599       200  6u0EAxf1OJTLS7CvInuNd7   \n",
              "\n",
              "                                                song_name           artist  \\\n",
              "0                                                rockstar      Post Malone   \n",
              "1                                            I Fall Apart      Post Malone   \n",
              "2                                            Bank Account        21 Savage   \n",
              "3                                              Gucci Gang         Lil Pump   \n",
              "4                                          1-800-273-8255            Logic   \n",
              "...                                                   ...              ...   \n",
              "273595         Swalla (feat. Nicki Minaj & Ty Dolla $ign)     Jason Derulo   \n",
              "273596                       Glorious (feat. Skylar Grey)       Macklemore   \n",
              "273597                                     Mr. Brightside      The Killers   \n",
              "273598                                         Next To Me  Imagine Dragons   \n",
              "273599  Vai malandra (feat. Tropkillaz & DJ Yuri Martins)           Anitta   \n",
              "\n",
              "         streams  last_week_position  weeks_on_chart  peak_position  \\\n",
              "0       17532665                 1.0               3              1   \n",
              "1        8350785                 2.0               6              2   \n",
              "2        7589124                 4.0               5              3   \n",
              "3        7584237                 5.0               3              4   \n",
              "4        7527770                 3.0              26              1   \n",
              "...          ...                 ...             ...            ...   \n",
              "273595   3747830               191.0              52              8   \n",
              "273596   3725286               189.0              24             14   \n",
              "273597   3717326               195.0              17            148   \n",
              "273598   3681739               122.0               2            122   \n",
              "273599   3676542               177.0              12             30   \n",
              "\n",
              "       position_status week_start   week_end  region  valence  \n",
              "0                    0 2017-10-20 2017-10-27      us    0.119  \n",
              "1                    0 2017-10-20 2017-10-27      us    0.291  \n",
              "2                    1 2017-10-20 2017-10-27      us    0.376  \n",
              "3                    1 2017-10-20 2017-10-27      us    0.699  \n",
              "4                   -2 2017-10-20 2017-10-27      us    0.357  \n",
              "...                ...        ...        ...     ...      ...  \n",
              "273595              -5 2018-03-02 2018-03-09  global    0.782  \n",
              "273596              -8 2018-03-02 2018-03-09  global    0.356  \n",
              "273597              -3 2018-03-02 2018-03-09  global    0.232  \n",
              "273598             -77 2018-03-02 2018-03-09  global    0.351  \n",
              "273599             -23 2018-03-02 2018-03-09  global    0.557  \n",
              "\n",
              "[273600 rows x 13 columns]"
            ]
          },
          "execution_count": 12,
          "metadata": {},
          "output_type": "execute_result"
        }
      ],
      "execution_count": 12
    },
    {
      "id": "8be9fa74",
      "cell_type": "markdown",
      "source": "* As we said, we are interested in valence, in the `valence' column.\n\n* Let's see the strength by week:",
      "metadata": {
        "slideshow": {
          "slide_type": "slide"
        }
      }
    },
    {
      "id": "25395fff",
      "cell_type": "code",
      "source": "weekly_valence = all_charts.groupby('week_start').mean()['valence']\nweekly_valence",
      "metadata": {
        "slideshow": {
          "slide_type": "fragment"
        }
      },
      "outputs": [
        {
          "data": {
            "text/plain": [
              "week_start\n",
              "2016-12-30    0.502642\n",
              "2017-01-06    0.493741\n",
              "2017-01-13    0.490104\n",
              "2017-01-20    0.488434\n",
              "2017-01-27    0.490052\n",
              "                ...   \n",
              "2019-11-22    0.526818\n",
              "2019-11-29    0.531499\n",
              "2019-12-06    0.534468\n",
              "2019-12-13    0.536318\n",
              "2019-12-20    0.544564\n",
              "Name: valence, Length: 156, dtype: float64"
            ]
          },
          "execution_count": 13,
          "metadata": {},
          "output_type": "execute_result"
        }
      ],
      "execution_count": 13
    },
    {
      "id": "cd76a3a3",
      "cell_type": "markdown",
      "source": "* During the year:",
      "metadata": {
        "slideshow": {
          "slide_type": "slide"
        }
      }
    },
    {
      "id": "913a8bfc",
      "cell_type": "code",
      "source": "sns.set_theme()\nplt.figure(figsize=(20,5))\n_ = sns.lineplot(x=weekly_valence.index, y=weekly_valence)",
      "metadata": {
        "slideshow": {
          "slide_type": "fragment"
        }
      },
      "outputs": [
        {
          "data": {
            "image/png": "[encoded data removed]",
            "text/plain": [
              "<Figure size 1440x360 with 1 Axes>"
            ]
          },
          "metadata": {},
          "output_type": "display_data"
        }
      ],
      "execution_count": 14
    },
    {
      "id": "8cb3fa19",
      "cell_type": "markdown",
      "source": "* How important Christmas is!\n\n* And what a melancholy month February seems to be...",
      "metadata": {
        "slideshow": {
          "slide_type": "slide"
        }
      }
    },
    {
      "id": "ce6a71cd",
      "cell_type": "code",
      "source": "weekly_valence_2017 = weekly_valence[weekly_valence.index.year == 2017]\n_ = sns.lineplot(x=weekly_valence_2017.index, y=weekly_valence_2017)",
      "metadata": {
        "slideshow": {
          "slide_type": "fragment"
        }
      },
      "outputs": [
        {
          "data": {
            "image/png": "[encoded data removed]",
            "text/plain": [
              "<Figure size 432x288 with 1 Axes>"
            ]
          },
          "metadata": {},
          "output_type": "display_data"
        }
      ],
      "execution_count": 15
    },
    {
      "id": "8dedb6c1",
      "cell_type": "markdown",
      "source": "* We see the same next year!",
      "metadata": {
        "slideshow": {
          "slide_type": "slide"
        }
      }
    },
    {
      "id": "95f082ef",
      "cell_type": "code",
      "source": "weekly_valence_2018 = weekly_valence[weekly_valence.index.year == 2018]\n_ = sns.lineplot(x=weekly_valence_2018.index, y=weekly_valence_2018)",
      "metadata": {
        "slideshow": {
          "slide_type": "fragment"
        }
      },
      "outputs": [
        {
          "data": {
            "image/png": "[encoded data removed]",
            "text/plain": [
              "<Figure size 432x288 with 1 Axes>"
            ]
          },
          "metadata": {},
          "output_type": "display_data"
        }
      ],
      "execution_count": 16
    },
    {
      "id": "50cd28ab",
      "cell_type": "markdown",
      "source": "* But we don't see it in 2019.\n\n* People seem to be having fun in general, apparently they had no idea what was coming in 2020...",
      "metadata": {
        "slideshow": {
          "slide_type": "slide"
        }
      }
    },
    {
      "id": "629c00a0",
      "cell_type": "code",
      "source": "weekly_valence_2019 = weekly_valence[weekly_valence.index.year == 2019]\n_ = sns.lineplot(x=weekly_valence_2019.index, y=weekly_valence_2019)",
      "metadata": {
        "slideshow": {
          "slide_type": "fragment"
        }
      },
      "outputs": [
        {
          "data": {
            "image/png": "[encoded data removed]",
            "text/plain": [
              "<Figure size 432x288 with 1 Axes>"
            ]
          },
          "metadata": {},
          "output_type": "display_data"
        }
      ],
      "execution_count": 17
    },
    {
      "id": "d4d8de9b",
      "cell_type": "markdown",
      "source": "* More generally, however, the strength of the pieces seems to be towards the middle.",
      "metadata": {
        "slideshow": {
          "slide_type": "slide"
        }
      }
    },
    {
      "id": "c5812155",
      "cell_type": "code",
      "source": "sns.histplot(x='valence', data=all_charts, kde=True)",
      "metadata": {
        "slideshow": {
          "slide_type": "fragment"
        }
      },
      "outputs": [
        {
          "data": {
            "text/plain": [
              "<AxesSubplot:xlabel='valence', ylabel='Count'>"
            ]
          },
          "execution_count": 18,
          "metadata": {},
          "output_type": "execute_result"
        },
        {
          "data": {
            "image/png": "[encoded data removed]",
            "text/plain": [
              "<Figure size 432x288 with 1 Axes>"
            ]
          },
          "metadata": {},
          "output_type": "display_data"
        }
      ],
      "execution_count": 18
    },
    {
      "id": "linear-problem",
      "cell_type": "markdown",
      "source": "* We can see the image in a specific region, such as in the US:",
      "metadata": {
        "slideshow": {
          "slide_type": "slide"
        }
      }
    },
    {
      "id": "boolean-miracle",
      "cell_type": "code",
      "source": "sns.histplot(x='valence', data=all_charts[all_charts['region'] == 'us'], kde=True)",
      "metadata": {
        "slideshow": {
          "slide_type": "fragment"
        }
      },
      "outputs": [
        {
          "data": {
            "text/plain": [
              "<AxesSubplot:xlabel='valence', ylabel='Count'>"
            ]
          },
          "execution_count": 19,
          "metadata": {},
          "output_type": "execute_result"
        },
        {
          "data": {
            "image/png": "[encoded data removed]",
            "text/plain": [
              "<Figure size 432x288 with 1 Axes>"
            ]
          },
          "metadata": {},
          "output_type": "display_data"
        }
      ],
      "execution_count": 19
    },
    {
      "id": "endless-gauge",
      "cell_type": "markdown",
      "source": "* Or in Brazil:",
      "metadata": {
        "slideshow": {
          "slide_type": "slide"
        }
      }
    },
    {
      "id": "equivalent-input",
      "cell_type": "code",
      "source": "sns.histplot(x='valence', data=all_charts[all_charts['region'] == 'br'], kde=True)",
      "metadata": {
        "slideshow": {
          "slide_type": "fragment"
        }
      },
      "outputs": [
        {
          "data": {
            "text/plain": [
              "<AxesSubplot:xlabel='valence', ylabel='Count'>"
            ]
          },
          "execution_count": 20,
          "metadata": {},
          "output_type": "execute_result"
        },
        {
          "data": {
            "image/png": "[encoded data removed]",
            "text/plain": [
              "<Figure size 432x288 with 1 Axes>"
            ]
          },
          "metadata": {},
          "output_type": "display_data"
        }
      ],
      "execution_count": 20
    },
    {
      "id": "hired-vatican",
      "cell_type": "markdown",
      "source": "* Or in all regions together:",
      "metadata": {
        "slideshow": {
          "slide_type": "slide"
        }
      }
    },
    {
      "id": "labeled-motor",
      "cell_type": "code",
      "source": "plt.figure(figsize=(16, 10))\n_ = sns.displot(x=\"valence\", data=all_charts, hue=\"region\", aspect=2.5, kind=\"kde\")",
      "metadata": {
        "slideshow": {
          "slide_type": "fragment"
        }
      },
      "outputs": [
        {
          "data": {
            "text/plain": [
              "<Figure size 1152x720 with 0 Axes>"
            ]
          },
          "metadata": {},
          "output_type": "display_data"
        },
        {
          "data": {
            "image/png": "[encoded data removed]",
            "text/plain": [
              "<Figure size 969.225x360 with 1 Axes>"
            ]
          },
          "metadata": {},
          "output_type": "display_data"
        }
      ],
      "execution_count": 21
    },
    {
      "id": "valued-purpose",
      "cell_type": "markdown",
      "source": "* Or in the US, Brazil, and worldwide:",
      "metadata": {
        "slideshow": {
          "slide_type": "slide"
        }
      }
    },
    {
      "id": "negative-geology",
      "cell_type": "code",
      "source": "g = sns.displot(x=\"valence\", data=all_charts[all_charts['region'].isin(['br', 'us', 'global'])], \n                hue=\"region\", aspect=2.5, kind=\"kde\", fill=True)\ng.ax.annotate('0.0789 Bridge Over Troubled Water (Artists for Grenfell)', \n              xy=(0.0789, 0.0), \n              xytext=(0.0789, -0.15), \n              arrowprops=dict(facecolor='black', headwidth=8, width=2),\n)\n_ = g.ax.annotate('0.982 September (Earth, Wind & Fire)', xy=(0.982, 0.0), \n                  xytext=(0.982, -0.15),\n                  arrowprops=dict(facecolor='black', headwidth=8, width=2))",
      "metadata": {
        "scrolled": true,
        "slideshow": {
          "slide_type": "fragment"
        },
        "tags": [
          "remove_input"
        ]
      },
      "outputs": [
        {
          "data": {
            "image/png": "[encoded data removed]",
            "text/plain": [
              "<Figure size 969.225x360 with 1 Axes>"
            ]
          },
          "metadata": {},
          "output_type": "display_data"
        }
      ],
      "execution_count": 22
    },
    {
      "id": "sustainable-chain",
      "cell_type": "markdown",
      "source": "* The thecograms can show us the size of the difference by region:",
      "metadata": {
        "slideshow": {
          "slide_type": "slide"
        }
      }
    },
    {
      "id": "precious-qualification",
      "cell_type": "code",
      "source": "plt.figure(figsize=(10, 8))\nsns.boxplot(x='region', y='valence', data=all_charts)",
      "metadata": {
        "slideshow": {
          "slide_type": "fragment"
        }
      },
      "outputs": [
        {
          "data": {
            "text/plain": [
              "<AxesSubplot:xlabel='region', ylabel='valence'>"
            ]
          },
          "execution_count": 23,
          "metadata": {},
          "output_type": "execute_result"
        },
        {
          "data": {
            "image/png": "[encoded data removed]",
            "text/plain": [
              "<Figure size 720x576 with 1 Axes>"
            ]
          },
          "metadata": {},
          "output_type": "display_data"
        }
      ],
      "execution_count": 23
    },
    {
      "id": "excited-rebound",
      "cell_type": "markdown",
      "source": "* One idea is to put all the histograms in one chart, but in a better way.\n\n* We'll start by taking the average valence in ascending order.",
      "metadata": {
        "slideshow": {
          "slide_type": "slide"
        }
      }
    },
    {
      "id": "composite-promotion",
      "cell_type": "code",
      "source": "valence_by_region = all_charts[['region', 'valence']].groupby('region').mean().sort_values(by='valence')\nvalence_by_region.reset_index(inplace=True)\nvalence_by_region['region_valence_pos'] = valence_by_region.index\nvalence_by_region",
      "metadata": {
        "slideshow": {
          "slide_type": "fragment"
        }
      },
      "outputs": [
        {
          "data": {
            "text/html": [
              "<div>\n",
              "<style scoped>\n",
              "    .dataframe tbody tr th:only-of-type {\n",
              "        vertical-align: middle;\n",
              "    }\n",
              "\n",
              "    .dataframe tbody tr th {\n",
              "        vertical-align: top;\n",
              "    }\n",
              "\n",
              "    .dataframe thead th {\n",
              "        text-align: right;\n",
              "    }\n",
              "</style>\n",
              "<table border=\"1\" class=\"dataframe\">\n",
              "  <thead>\n",
              "    <tr style=\"text-align: right;\">\n",
              "      <th></th>\n",
              "      <th>region</th>\n",
              "      <th>valence</th>\n",
              "      <th>region_valence_pos</th>\n",
              "    </tr>\n",
              "  </thead>\n",
              "  <tbody>\n",
              "    <tr>\n",
              "      <th>0</th>\n",
              "      <td>us</td>\n",
              "      <td>0.450253</td>\n",
              "      <td>0</td>\n",
              "    </tr>\n",
              "    <tr>\n",
              "      <th>1</th>\n",
              "      <td>ca</td>\n",
              "      <td>0.459242</td>\n",
              "      <td>1</td>\n",
              "    </tr>\n",
              "    <tr>\n",
              "      <th>2</th>\n",
              "      <td>au</td>\n",
              "      <td>0.469923</td>\n",
              "      <td>2</td>\n",
              "    </tr>\n",
              "    <tr>\n",
              "      <th>3</th>\n",
              "      <td>global</td>\n",
              "      <td>0.495207</td>\n",
              "      <td>3</td>\n",
              "    </tr>\n",
              "    <tr>\n",
              "      <th>4</th>\n",
              "      <td>de</td>\n",
              "      <td>0.499084</td>\n",
              "      <td>4</td>\n",
              "    </tr>\n",
              "    <tr>\n",
              "      <th>5</th>\n",
              "      <td>gb</td>\n",
              "      <td>0.501666</td>\n",
              "      <td>5</td>\n",
              "    </tr>\n",
              "    <tr>\n",
              "      <th>6</th>\n",
              "      <td>fr</td>\n",
              "      <td>0.510750</td>\n",
              "      <td>6</td>\n",
              "    </tr>\n",
              "    <tr>\n",
              "      <th>7</th>\n",
              "      <td>jp</td>\n",
              "      <td>0.529292</td>\n",
              "      <td>7</td>\n",
              "    </tr>\n",
              "    <tr>\n",
              "      <th>8</th>\n",
              "      <td>br</td>\n",
              "      <td>0.606860</td>\n",
              "      <td>8</td>\n",
              "    </tr>\n",
              "  </tbody>\n",
              "</table>\n",
              "</div>"
            ],
            "text/plain": [
              "   region   valence  region_valence_pos\n",
              "0      us  0.450253                   0\n",
              "1      ca  0.459242                   1\n",
              "2      au  0.469923                   2\n",
              "3  global  0.495207                   3\n",
              "4      de  0.499084                   4\n",
              "5      gb  0.501666                   5\n",
              "6      fr  0.510750                   6\n",
              "7      jp  0.529292                   7\n",
              "8      br  0.606860                   8"
            ]
          },
          "execution_count": 24,
          "metadata": {},
          "output_type": "execute_result"
        }
      ],
      "execution_count": 24
    },
    {
      "id": "alpha-updating",
      "cell_type": "markdown",
      "source": "* We will add the position of each region, in terms of valence, to the `DataFrame` `all_charts`.",
      "metadata": {
        "slideshow": {
          "slide_type": "slide"
        }
      }
    },
    {
      "id": "civil-portland",
      "cell_type": "code",
      "source": "all_charts = pd.merge(all_charts, valence_by_region[['region', 'region_valence_pos']], on='region')\nall_charts",
      "metadata": {
        "slideshow": {
          "slide_type": "fragment"
        }
      },
      "outputs": [
        {
          "data": {
            "text/html": [
              "<div>\n",
              "<style scoped>\n",
              "    .dataframe tbody tr th:only-of-type {\n",
              "        vertical-align: middle;\n",
              "    }\n",
              "\n",
              "    .dataframe tbody tr th {\n",
              "        vertical-align: top;\n",
              "    }\n",
              "\n",
              "    .dataframe thead th {\n",
              "        text-align: right;\n",
              "    }\n",
              "</style>\n",
              "<table border=\"1\" class=\"dataframe\">\n",
              "  <thead>\n",
              "    <tr style=\"text-align: right;\">\n",
              "      <th></th>\n",
              "      <th>position</th>\n",
              "      <th>song_id</th>\n",
              "      <th>song_name</th>\n",
              "      <th>artist</th>\n",
              "      <th>streams</th>\n",
              "      <th>last_week_position</th>\n",
              "      <th>weeks_on_chart</th>\n",
              "      <th>peak_position</th>\n",
              "      <th>position_status</th>\n",
              "      <th>week_start</th>\n",
              "      <th>week_end</th>\n",
              "      <th>region</th>\n",
              "      <th>valence</th>\n",
              "      <th>region_valence_pos</th>\n",
              "    </tr>\n",
              "  </thead>\n",
              "  <tbody>\n",
              "    <tr>\n",
              "      <th>0</th>\n",
              "      <td>1</td>\n",
              "      <td>7wGoVu4Dady5GV0Sv4UIsx</td>\n",
              "      <td>rockstar</td>\n",
              "      <td>Post Malone</td>\n",
              "      <td>17532665</td>\n",
              "      <td>1.0</td>\n",
              "      <td>3</td>\n",
              "      <td>1</td>\n",
              "      <td>0</td>\n",
              "      <td>2017-10-20</td>\n",
              "      <td>2017-10-27</td>\n",
              "      <td>us</td>\n",
              "      <td>0.119</td>\n",
              "      <td>0</td>\n",
              "    </tr>\n",
              "    <tr>\n",
              "      <th>1</th>\n",
              "      <td>2</td>\n",
              "      <td>75ZvA4QfFiZvzhj2xkaWAh</td>\n",
              "      <td>I Fall Apart</td>\n",
              "      <td>Post Malone</td>\n",
              "      <td>8350785</td>\n",
              "      <td>2.0</td>\n",
              "      <td>6</td>\n",
              "      <td>2</td>\n",
              "      <td>0</td>\n",
              "      <td>2017-10-20</td>\n",
              "      <td>2017-10-27</td>\n",
              "      <td>us</td>\n",
              "      <td>0.291</td>\n",
              "      <td>0</td>\n",
              "    </tr>\n",
              "    <tr>\n",
              "      <th>2</th>\n",
              "      <td>3</td>\n",
              "      <td>2fQrGHiQOvpL9UgPvtYy6G</td>\n",
              "      <td>Bank Account</td>\n",
              "      <td>21 Savage</td>\n",
              "      <td>7589124</td>\n",
              "      <td>4.0</td>\n",
              "      <td>5</td>\n",
              "      <td>3</td>\n",
              "      <td>1</td>\n",
              "      <td>2017-10-20</td>\n",
              "      <td>2017-10-27</td>\n",
              "      <td>us</td>\n",
              "      <td>0.376</td>\n",
              "      <td>0</td>\n",
              "    </tr>\n",
              "    <tr>\n",
              "      <th>3</th>\n",
              "      <td>4</td>\n",
              "      <td>43ZyHQITOjhciSUUNPVRHc</td>\n",
              "      <td>Gucci Gang</td>\n",
              "      <td>Lil Pump</td>\n",
              "      <td>7584237</td>\n",
              "      <td>5.0</td>\n",
              "      <td>3</td>\n",
              "      <td>4</td>\n",
              "      <td>1</td>\n",
              "      <td>2017-10-20</td>\n",
              "      <td>2017-10-27</td>\n",
              "      <td>us</td>\n",
              "      <td>0.699</td>\n",
              "      <td>0</td>\n",
              "    </tr>\n",
              "    <tr>\n",
              "      <th>4</th>\n",
              "      <td>5</td>\n",
              "      <td>5tz69p7tJuGPeMGwNTxYuV</td>\n",
              "      <td>1-800-273-8255</td>\n",
              "      <td>Logic</td>\n",
              "      <td>7527770</td>\n",
              "      <td>3.0</td>\n",
              "      <td>26</td>\n",
              "      <td>1</td>\n",
              "      <td>-2</td>\n",
              "      <td>2017-10-20</td>\n",
              "      <td>2017-10-27</td>\n",
              "      <td>us</td>\n",
              "      <td>0.357</td>\n",
              "      <td>0</td>\n",
              "    </tr>\n",
              "    <tr>\n",
              "      <th>...</th>\n",
              "      <td>...</td>\n",
              "      <td>...</td>\n",
              "      <td>...</td>\n",
              "      <td>...</td>\n",
              "      <td>...</td>\n",
              "      <td>...</td>\n",
              "      <td>...</td>\n",
              "      <td>...</td>\n",
              "      <td>...</td>\n",
              "      <td>...</td>\n",
              "      <td>...</td>\n",
              "      <td>...</td>\n",
              "      <td>...</td>\n",
              "      <td>...</td>\n",
              "    </tr>\n",
              "    <tr>\n",
              "      <th>273595</th>\n",
              "      <td>196</td>\n",
              "      <td>6kex4EBAj0WHXDKZMEJaaF</td>\n",
              "      <td>Swalla (feat. Nicki Minaj &amp; Ty Dolla $ign)</td>\n",
              "      <td>Jason Derulo</td>\n",
              "      <td>3747830</td>\n",
              "      <td>191.0</td>\n",
              "      <td>52</td>\n",
              "      <td>8</td>\n",
              "      <td>-5</td>\n",
              "      <td>2018-03-02</td>\n",
              "      <td>2018-03-09</td>\n",
              "      <td>global</td>\n",
              "      <td>0.782</td>\n",
              "      <td>3</td>\n",
              "    </tr>\n",
              "    <tr>\n",
              "      <th>273596</th>\n",
              "      <td>197</td>\n",
              "      <td>0CokSRCu5hZgPxcZBaEzVE</td>\n",
              "      <td>Glorious (feat. Skylar Grey)</td>\n",
              "      <td>Macklemore</td>\n",
              "      <td>3725286</td>\n",
              "      <td>189.0</td>\n",
              "      <td>24</td>\n",
              "      <td>14</td>\n",
              "      <td>-8</td>\n",
              "      <td>2018-03-02</td>\n",
              "      <td>2018-03-09</td>\n",
              "      <td>global</td>\n",
              "      <td>0.356</td>\n",
              "      <td>3</td>\n",
              "    </tr>\n",
              "    <tr>\n",
              "      <th>273597</th>\n",
              "      <td>198</td>\n",
              "      <td>7oK9VyNzrYvRFo7nQEYkWN</td>\n",
              "      <td>Mr. Brightside</td>\n",
              "      <td>The Killers</td>\n",
              "      <td>3717326</td>\n",
              "      <td>195.0</td>\n",
              "      <td>17</td>\n",
              "      <td>148</td>\n",
              "      <td>-3</td>\n",
              "      <td>2018-03-02</td>\n",
              "      <td>2018-03-09</td>\n",
              "      <td>global</td>\n",
              "      <td>0.232</td>\n",
              "      <td>3</td>\n",
              "    </tr>\n",
              "    <tr>\n",
              "      <th>273598</th>\n",
              "      <td>199</td>\n",
              "      <td>7EUfNvyCVxQV3oN5ScA2Lb</td>\n",
              "      <td>Next To Me</td>\n",
              "      <td>Imagine Dragons</td>\n",
              "      <td>3681739</td>\n",
              "      <td>122.0</td>\n",
              "      <td>2</td>\n",
              "      <td>122</td>\n",
              "      <td>-77</td>\n",
              "      <td>2018-03-02</td>\n",
              "      <td>2018-03-09</td>\n",
              "      <td>global</td>\n",
              "      <td>0.351</td>\n",
              "      <td>3</td>\n",
              "    </tr>\n",
              "    <tr>\n",
              "      <th>273599</th>\n",
              "      <td>200</td>\n",
              "      <td>6u0EAxf1OJTLS7CvInuNd7</td>\n",
              "      <td>Vai malandra (feat. Tropkillaz &amp; DJ Yuri Martins)</td>\n",
              "      <td>Anitta</td>\n",
              "      <td>3676542</td>\n",
              "      <td>177.0</td>\n",
              "      <td>12</td>\n",
              "      <td>30</td>\n",
              "      <td>-23</td>\n",
              "      <td>2018-03-02</td>\n",
              "      <td>2018-03-09</td>\n",
              "      <td>global</td>\n",
              "      <td>0.557</td>\n",
              "      <td>3</td>\n",
              "    </tr>\n",
              "  </tbody>\n",
              "</table>\n",
              "<p>273600 rows × 14 columns</p>\n",
              "</div>"
            ],
            "text/plain": [
              "        position                 song_id  \\\n",
              "0              1  7wGoVu4Dady5GV0Sv4UIsx   \n",
              "1              2  75ZvA4QfFiZvzhj2xkaWAh   \n",
              "2              3  2fQrGHiQOvpL9UgPvtYy6G   \n",
              "3              4  43ZyHQITOjhciSUUNPVRHc   \n",
              "4              5  5tz69p7tJuGPeMGwNTxYuV   \n",
              "...          ...                     ...   \n",
              "273595       196  6kex4EBAj0WHXDKZMEJaaF   \n",
              "273596       197  0CokSRCu5hZgPxcZBaEzVE   \n",
              "273597       198  7oK9VyNzrYvRFo7nQEYkWN   \n",
              "273598       199  7EUfNvyCVxQV3oN5ScA2Lb   \n",
              "273599       200  6u0EAxf1OJTLS7CvInuNd7   \n",
              "\n",
              "                                                song_name           artist  \\\n",
              "0                                                rockstar      Post Malone   \n",
              "1                                            I Fall Apart      Post Malone   \n",
              "2                                            Bank Account        21 Savage   \n",
              "3                                              Gucci Gang         Lil Pump   \n",
              "4                                          1-800-273-8255            Logic   \n",
              "...                                                   ...              ...   \n",
              "273595         Swalla (feat. Nicki Minaj & Ty Dolla $ign)     Jason Derulo   \n",
              "273596                       Glorious (feat. Skylar Grey)       Macklemore   \n",
              "273597                                     Mr. Brightside      The Killers   \n",
              "273598                                         Next To Me  Imagine Dragons   \n",
              "273599  Vai malandra (feat. Tropkillaz & DJ Yuri Martins)           Anitta   \n",
              "\n",
              "         streams  last_week_position  weeks_on_chart  peak_position  \\\n",
              "0       17532665                 1.0               3              1   \n",
              "1        8350785                 2.0               6              2   \n",
              "2        7589124                 4.0               5              3   \n",
              "3        7584237                 5.0               3              4   \n",
              "4        7527770                 3.0              26              1   \n",
              "...          ...                 ...             ...            ...   \n",
              "273595   3747830               191.0              52              8   \n",
              "273596   3725286               189.0              24             14   \n",
              "273597   3717326               195.0              17            148   \n",
              "273598   3681739               122.0               2            122   \n",
              "273599   3676542               177.0              12             30   \n",
              "\n",
              "       position_status week_start   week_end  region  valence  \\\n",
              "0                    0 2017-10-20 2017-10-27      us    0.119   \n",
              "1                    0 2017-10-20 2017-10-27      us    0.291   \n",
              "2                    1 2017-10-20 2017-10-27      us    0.376   \n",
              "3                    1 2017-10-20 2017-10-27      us    0.699   \n",
              "4                   -2 2017-10-20 2017-10-27      us    0.357   \n",
              "...                ...        ...        ...     ...      ...   \n",
              "273595              -5 2018-03-02 2018-03-09  global    0.782   \n",
              "273596              -8 2018-03-02 2018-03-09  global    0.356   \n",
              "273597              -3 2018-03-02 2018-03-09  global    0.232   \n",
              "273598             -77 2018-03-02 2018-03-09  global    0.351   \n",
              "273599             -23 2018-03-02 2018-03-09  global    0.557   \n",
              "\n",
              "        region_valence_pos  \n",
              "0                        0  \n",
              "1                        0  \n",
              "2                        0  \n",
              "3                        0  \n",
              "4                        0  \n",
              "...                    ...  \n",
              "273595                   3  \n",
              "273596                   3  \n",
              "273597                   3  \n",
              "273598                   3  \n",
              "273599                   3  \n",
              "\n",
              "[273600 rows x 14 columns]"
            ]
          },
          "execution_count": 25,
          "metadata": {},
          "output_type": "execute_result"
        }
      ],
      "execution_count": 25
    },
    {
      "id": "surgical-water",
      "cell_type": "code",
      "source": "sns.set_theme(style=\"white\", rc={\"axes.facecolor\": (0, 0, 0, 0)}, font_scale=1.5)\npal = sns.cubehelix_palette(len(valence_by_region), rot=.45, light=.7, reverse=True)\ng = sns.FacetGrid(all_charts, \n                  row='region', \n                  hue='region_valence_pos',\n                  row_order=valence_by_region['region'],\n                  height=0.8, aspect=8,\n                  palette=pal)\ng.map(sns.kdeplot, \"valence\",\n      bw_adjust=.5, clip_on=False,\n      fill=True, alpha=1, linewidth=1.5)\ng.map(sns.kdeplot, \"valence\", clip_on=False, color=\"w\", lw=2, bw_adjust=.5)\ng.refline(y=0, linewidth=2, linestyle=\"-\", color=None, clip_on=False)\n\ng.figure.subplots_adjust(hspace=-.5)\n\n# Remove axes details that don't play well with overlap\ng.set_titles(\"\")\ng.set(yticks=[], ylabel=\"\")\ng.despine(bottom=True, left=True)\nfor i, region in enumerate(reversed(valence_by_region['region'])):\n    plt.text(0.05, 0.5 + 1.2*i, region,\n             horizontalalignment='center',\n             fontsize=14)",
      "metadata": {
        "slideshow": {
          "slide_type": "slide"
        },
        "tags": [
          "remove_input"
        ]
      },
      "outputs": [
        {
          "data": {
            "image/png": "[encoded data removed]",
            "text/plain": [
              "<Figure size 460.8x518.4 with 9 Axes>"
            ]
          },
          "metadata": {},
          "output_type": "display_data"
        }
      ],
      "execution_count": 26
    },
    {
      "id": "nearby-nicaragua",
      "cell_type": "markdown",
      "source": "### It is obvious that the strength varies from region to region.\n\n### But are these differences statistically significant?\n\n* To clarify this we will use Analysis of Variance (ANOVA).\n\n* In ANOVA we control the within-groups variation against the between-groups variation of our data.\n### If the between-group variation is large relative to the within-group variation, then it is unlikely that the differences in mean values ​​are simply a product of chance.",
      "metadata": {
        "slideshow": {
          "slide_type": "slide"
        }
      }
    },
    {
      "id": "efficient-certification",
      "cell_type": "markdown",
      "source": "* To use ANOVA some conditions must be met.\n\n* A condition is that the data in each group must follow a normal distribution.\n\n* To check this we first construct histograms for each group, i.e. region.",
      "metadata": {
        "slideshow": {
          "slide_type": "slide"
        }
      }
    },
    {
      "id": "sorted-toolbox",
      "cell_type": "code",
      "source": "sns.set_theme()\n_ = sns.displot(all_charts, kde=True,\n    x=\"valence\", col=\"region\", col_wrap=3, height=2.5, facet_kws=dict(margin_titles=True),\n)",
      "metadata": {
        "slideshow": {
          "slide_type": "slide"
        }
      },
      "outputs": [
        {
          "data": {
            "image/png": "[encoded data removed]",
            "text/plain": [
              "<Figure size 540x540 with 9 Axes>"
            ]
          },
          "metadata": {},
          "output_type": "display_data"
        }
      ],
      "execution_count": 27
    },
    {
      "id": "fifty-quarter",
      "cell_type": "markdown",
      "source": "* We proceed to construct QQ charts, one per region.",
      "metadata": {
        "slideshow": {
          "slide_type": "slide"
        }
      }
    },
    {
      "id": "flexible-budget",
      "cell_type": "code",
      "source": "fig = plt.figure(figsize=(10, 8))\nplt.rc('axes', edgecolor='gainsboro')\nplt.subplots_adjust(hspace=.5)\nfor i, region in enumerate(valence_by_region['region']):\n    ax = fig.add_subplot(3, 3, (i+1))\n    ax.set_facecolor('gainsboro')\n    ax.grid('on', color='w')\n    sm.graphics.qqplot(all_charts.loc[all_charts['region'] == region, 'valence'], \n                       line='s', ax=ax, linewidth=1, markersize=2)\n    if i < 6:\n        plt.xlabel(\"\")\n    if i % 3 != 0:\n        plt.ylabel(\"\")\n    plt.title(region)",
      "metadata": {
        "slideshow": {
          "slide_type": "fragment"
        },
        "tags": [
          "remove_input"
        ]
      },
      "outputs": [
        {
          "data": {
            "image/png": "[encoded data removed]",
            "text/plain": [
              "<Figure size 720x576 with 9 Axes>"
            ]
          },
          "metadata": {},
          "output_type": "display_data"
        }
      ],
      "execution_count": 28
    },
    {
      "id": "mexican-insertion",
      "cell_type": "markdown",
      "source": "* Another condition that the data must meet is that the groups have the same variance.\n\n* We can check this directly.",
      "metadata": {
        "slideshow": {
          "slide_type": "slide"
        }
      }
    },
    {
      "id": "described-advance",
      "cell_type": "code",
      "source": "all_charts[['region', 'valence']].groupby('region').var()",
      "metadata": {
        "slideshow": {
          "slide_type": "fragment"
        }
      },
      "outputs": [
        {
          "data": {
            "text/html": [
              "<div>\n",
              "<style scoped>\n",
              "    .dataframe tbody tr th:only-of-type {\n",
              "        vertical-align: middle;\n",
              "    }\n",
              "\n",
              "    .dataframe tbody tr th {\n",
              "        vertical-align: top;\n",
              "    }\n",
              "\n",
              "    .dataframe thead th {\n",
              "        text-align: right;\n",
              "    }\n",
              "</style>\n",
              "<table border=\"1\" class=\"dataframe\">\n",
              "  <thead>\n",
              "    <tr style=\"text-align: right;\">\n",
              "      <th></th>\n",
              "      <th>valence</th>\n",
              "    </tr>\n",
              "    <tr>\n",
              "      <th>region</th>\n",
              "      <th></th>\n",
              "    </tr>\n",
              "  </thead>\n",
              "  <tbody>\n",
              "    <tr>\n",
              "      <th>au</th>\n",
              "      <td>0.043604</td>\n",
              "    </tr>\n",
              "    <tr>\n",
              "      <th>br</th>\n",
              "      <td>0.044162</td>\n",
              "    </tr>\n",
              "    <tr>\n",
              "      <th>ca</th>\n",
              "      <td>0.043102</td>\n",
              "    </tr>\n",
              "    <tr>\n",
              "      <th>de</th>\n",
              "      <td>0.042368</td>\n",
              "    </tr>\n",
              "    <tr>\n",
              "      <th>fr</th>\n",
              "      <td>0.044110</td>\n",
              "    </tr>\n",
              "    <tr>\n",
              "      <th>gb</th>\n",
              "      <td>0.047708</td>\n",
              "    </tr>\n",
              "    <tr>\n",
              "      <th>global</th>\n",
              "      <td>0.046950</td>\n",
              "    </tr>\n",
              "    <tr>\n",
              "      <th>jp</th>\n",
              "      <td>0.041302</td>\n",
              "    </tr>\n",
              "    <tr>\n",
              "      <th>us</th>\n",
              "      <td>0.042434</td>\n",
              "    </tr>\n",
              "  </tbody>\n",
              "</table>\n",
              "</div>"
            ],
            "text/plain": [
              "         valence\n",
              "region          \n",
              "au      0.043604\n",
              "br      0.044162\n",
              "ca      0.043102\n",
              "de      0.042368\n",
              "fr      0.044110\n",
              "gb      0.047708\n",
              "global  0.046950\n",
              "jp      0.041302\n",
              "us      0.042434"
            ]
          },
          "execution_count": 29,
          "metadata": {},
          "output_type": "execute_result"
        }
      ],
      "execution_count": 29
    },
    {
      "id": "light-camcorder",
      "cell_type": "markdown",
      "source": "* Having established the above, we proceed to the ANOVA.\n\n* We can use the `f_oneway()` function of the SciPy library.\n\n* This function takes as parameters the groups we want to compare.\n\n* We will need to manage our data a bit first so that we have a table-line for each group.\n\n* We start by putting the valence of each piece in a separate column per area.",
      "metadata": {
        "slideshow": {
          "slide_type": "slide"
        }
      }
    },
    {
      "id": "adverse-provider",
      "cell_type": "code",
      "source": "region_valence = all_charts.pivot_table(values='valence', \n                                        index=all_charts.index, \n                                        columns='region', \n                                        aggfunc='first')\nregion_valence",
      "metadata": {
        "slideshow": {
          "slide_type": "slide"
        }
      },
      "outputs": [
        {
          "data": {
            "text/html": [
              "<div>\n",
              "<style scoped>\n",
              "    .dataframe tbody tr th:only-of-type {\n",
              "        vertical-align: middle;\n",
              "    }\n",
              "\n",
              "    .dataframe tbody tr th {\n",
              "        vertical-align: top;\n",
              "    }\n",
              "\n",
              "    .dataframe thead th {\n",
              "        text-align: right;\n",
              "    }\n",
              "</style>\n",
              "<table border=\"1\" class=\"dataframe\">\n",
              "  <thead>\n",
              "    <tr style=\"text-align: right;\">\n",
              "      <th>region</th>\n",
              "      <th>au</th>\n",
              "      <th>br</th>\n",
              "      <th>ca</th>\n",
              "      <th>de</th>\n",
              "      <th>fr</th>\n",
              "      <th>gb</th>\n",
              "      <th>global</th>\n",
              "      <th>jp</th>\n",
              "      <th>us</th>\n",
              "    </tr>\n",
              "  </thead>\n",
              "  <tbody>\n",
              "    <tr>\n",
              "      <th>0</th>\n",
              "      <td>NaN</td>\n",
              "      <td>NaN</td>\n",
              "      <td>NaN</td>\n",
              "      <td>NaN</td>\n",
              "      <td>NaN</td>\n",
              "      <td>NaN</td>\n",
              "      <td>NaN</td>\n",
              "      <td>NaN</td>\n",
              "      <td>0.119</td>\n",
              "    </tr>\n",
              "    <tr>\n",
              "      <th>1</th>\n",
              "      <td>NaN</td>\n",
              "      <td>NaN</td>\n",
              "      <td>NaN</td>\n",
              "      <td>NaN</td>\n",
              "      <td>NaN</td>\n",
              "      <td>NaN</td>\n",
              "      <td>NaN</td>\n",
              "      <td>NaN</td>\n",
              "      <td>0.291</td>\n",
              "    </tr>\n",
              "    <tr>\n",
              "      <th>2</th>\n",
              "      <td>NaN</td>\n",
              "      <td>NaN</td>\n",
              "      <td>NaN</td>\n",
              "      <td>NaN</td>\n",
              "      <td>NaN</td>\n",
              "      <td>NaN</td>\n",
              "      <td>NaN</td>\n",
              "      <td>NaN</td>\n",
              "      <td>0.376</td>\n",
              "    </tr>\n",
              "    <tr>\n",
              "      <th>3</th>\n",
              "      <td>NaN</td>\n",
              "      <td>NaN</td>\n",
              "      <td>NaN</td>\n",
              "      <td>NaN</td>\n",
              "      <td>NaN</td>\n",
              "      <td>NaN</td>\n",
              "      <td>NaN</td>\n",
              "      <td>NaN</td>\n",
              "      <td>0.699</td>\n",
              "    </tr>\n",
              "    <tr>\n",
              "      <th>4</th>\n",
              "      <td>NaN</td>\n",
              "      <td>NaN</td>\n",
              "      <td>NaN</td>\n",
              "      <td>NaN</td>\n",
              "      <td>NaN</td>\n",
              "      <td>NaN</td>\n",
              "      <td>NaN</td>\n",
              "      <td>NaN</td>\n",
              "      <td>0.357</td>\n",
              "    </tr>\n",
              "    <tr>\n",
              "      <th>...</th>\n",
              "      <td>...</td>\n",
              "      <td>...</td>\n",
              "      <td>...</td>\n",
              "      <td>...</td>\n",
              "      <td>...</td>\n",
              "      <td>...</td>\n",
              "      <td>...</td>\n",
              "      <td>...</td>\n",
              "      <td>...</td>\n",
              "    </tr>\n",
              "    <tr>\n",
              "      <th>273595</th>\n",
              "      <td>NaN</td>\n",
              "      <td>NaN</td>\n",
              "      <td>NaN</td>\n",
              "      <td>NaN</td>\n",
              "      <td>NaN</td>\n",
              "      <td>NaN</td>\n",
              "      <td>0.782</td>\n",
              "      <td>NaN</td>\n",
              "      <td>NaN</td>\n",
              "    </tr>\n",
              "    <tr>\n",
              "      <th>273596</th>\n",
              "      <td>NaN</td>\n",
              "      <td>NaN</td>\n",
              "      <td>NaN</td>\n",
              "      <td>NaN</td>\n",
              "      <td>NaN</td>\n",
              "      <td>NaN</td>\n",
              "      <td>0.356</td>\n",
              "      <td>NaN</td>\n",
              "      <td>NaN</td>\n",
              "    </tr>\n",
              "    <tr>\n",
              "      <th>273597</th>\n",
              "      <td>NaN</td>\n",
              "      <td>NaN</td>\n",
              "      <td>NaN</td>\n",
              "      <td>NaN</td>\n",
              "      <td>NaN</td>\n",
              "      <td>NaN</td>\n",
              "      <td>0.232</td>\n",
              "      <td>NaN</td>\n",
              "      <td>NaN</td>\n",
              "    </tr>\n",
              "    <tr>\n",
              "      <th>273598</th>\n",
              "      <td>NaN</td>\n",
              "      <td>NaN</td>\n",
              "      <td>NaN</td>\n",
              "      <td>NaN</td>\n",
              "      <td>NaN</td>\n",
              "      <td>NaN</td>\n",
              "      <td>0.351</td>\n",
              "      <td>NaN</td>\n",
              "      <td>NaN</td>\n",
              "    </tr>\n",
              "    <tr>\n",
              "      <th>273599</th>\n",
              "      <td>NaN</td>\n",
              "      <td>NaN</td>\n",
              "      <td>NaN</td>\n",
              "      <td>NaN</td>\n",
              "      <td>NaN</td>\n",
              "      <td>NaN</td>\n",
              "      <td>0.557</td>\n",
              "      <td>NaN</td>\n",
              "      <td>NaN</td>\n",
              "    </tr>\n",
              "  </tbody>\n",
              "</table>\n",
              "<p>273600 rows × 9 columns</p>\n",
              "</div>"
            ],
            "text/plain": [
              "region  au  br  ca  de  fr  gb  global  jp     us\n",
              "0      NaN NaN NaN NaN NaN NaN     NaN NaN  0.119\n",
              "1      NaN NaN NaN NaN NaN NaN     NaN NaN  0.291\n",
              "2      NaN NaN NaN NaN NaN NaN     NaN NaN  0.376\n",
              "3      NaN NaN NaN NaN NaN NaN     NaN NaN  0.699\n",
              "4      NaN NaN NaN NaN NaN NaN     NaN NaN  0.357\n",
              "...     ..  ..  ..  ..  ..  ..     ...  ..    ...\n",
              "273595 NaN NaN NaN NaN NaN NaN   0.782 NaN    NaN\n",
              "273596 NaN NaN NaN NaN NaN NaN   0.356 NaN    NaN\n",
              "273597 NaN NaN NaN NaN NaN NaN   0.232 NaN    NaN\n",
              "273598 NaN NaN NaN NaN NaN NaN   0.351 NaN    NaN\n",
              "273599 NaN NaN NaN NaN NaN NaN   0.557 NaN    NaN\n",
              "\n",
              "[273600 rows x 9 columns]"
            ]
          },
          "execution_count": 30,
          "metadata": {},
          "output_type": "execute_result"
        }
      ],
      "execution_count": 30
    },
    {
      "id": "efficient-advocate",
      "cell_type": "markdown",
      "source": "* We break the `DataFrame` into individual columns to get one-dimensional arrays.",
      "metadata": {
        "slideshow": {
          "slide_type": "slide"
        }
      }
    },
    {
      "id": "accepted-training",
      "cell_type": "code",
      "source": "region_valence_groups = np.split(region_valence.values, region_valence.shape[1], axis=1)\nfor rvc in region_valence_groups:\n    print(rvc.shape)",
      "metadata": {
        "slideshow": {
          "slide_type": "fragment"
        }
      },
      "outputs": [
        {
          "name": "stdout",
          "output_type": "stream",
          "text": [
            "(273600, 1)\n",
            "(273600, 1)\n",
            "(273600, 1)\n",
            "(273600, 1)\n",
            "(273600, 1)\n",
            "(273600, 1)\n",
            "(273600, 1)\n",
            "(273600, 1)\n",
            "(273600, 1)\n"
          ]
        }
      ],
      "execution_count": 31
    },
    {
      "id": "three-package",
      "cell_type": "markdown",
      "source": "* We know there are `NaN`s, so we clean them up.",
      "metadata": {
        "slideshow": {
          "slide_type": "slide"
        }
      }
    },
    {
      "id": "pointed-bryan",
      "cell_type": "code",
      "source": "region_valence_groups = [ c[~np.isnan(c)] for c in region_valence_groups ]\nfor rvc in region_valence_groups:\n    print(rvc.shape, rvc)",
      "metadata": {
        "slideshow": {
          "slide_type": "fragment"
        }
      },
      "outputs": [
        {
          "name": "stdout",
          "output_type": "stream",
          "text": [
            "(31200,) [0.813 0.632 0.811 ... 0.789 0.193 0.404]\n",
            "(31200,) [0.637 0.962 0.705 ... 0.583 0.506 0.781]\n",
            "(31200,) [0.931 0.219 0.175 ... 0.419 0.689 0.111]\n",
            "(31200,) [0.746 0.693 0.119 ... 0.62  0.344 0.552]\n",
            "(31200,) [0.371 0.535 0.319 ... 0.28  0.333 0.558]\n",
            "(31200,) [0.813 0.811 0.966 ... 0.268 0.51  0.863]\n",
            "(30800,) [0.931 0.471 0.535 ... 0.232 0.351 0.557]\n",
            "(24400,) [0.931 0.292 0.327 ... 0.571 0.894 0.41 ]\n",
            "(31200,) [0.119 0.291 0.376 ... 0.357 0.274 0.447]\n"
          ]
        }
      ],
      "execution_count": 32
    },
    {
      "id": "chicken-kitty",
      "cell_type": "markdown",
      "source": "* We can now pass the groups to the `f_oneway()` function.\n\n* We see that the value of the F metric is high, so the differences in mean valence values ​​are unlikely to be due to chance.",
      "metadata": {
        "slideshow": {
          "slide_type": "slide"
        }
      }
    },
    {
      "id": "finished-oliver",
      "cell_type": "code",
      "source": "stats.f_oneway(*region_valence_groups)",
      "metadata": {
        "slideshow": {
          "slide_type": "fragment"
        }
      },
      "outputs": [
        {
          "data": {
            "text/plain": [
              "F_onewayResult(statistic=1527.2713324700505, pvalue=0.0)"
            ]
          },
          "execution_count": 33,
          "metadata": {},
          "output_type": "execute_result"
        }
      ],
      "execution_count": 33
    },
    {
      "id": "expired-liechtenstein",
      "cell_type": "markdown",
      "source": "* ANOVA can also be used by creating a linear model with statsmodels (as when doing regression).\n\n* This is actually easier than `f_oneway()` as we don't need to adjust our data at all.",
      "metadata": {
        "slideshow": {
          "slide_type": "slide"
        }
      }
    },
    {
      "id": "periodic-tumor",
      "cell_type": "code",
      "source": "region_valence_mod = smf.ols('valence ~ C(region)', data=all_charts)\nregion_valence_res = region_valence_mod.fit()",
      "metadata": {
        "slideshow": {
          "slide_type": "fragment"
        }
      },
      "outputs": [],
      "execution_count": 34
    },
    {
      "id": "killing-criminal",
      "cell_type": "markdown",
      "source": "* From the linear model we can get the ANOVA matrix using the `anova_lm()` function.\n\n* This gives us a more complete picture of the results.",
      "metadata": {
        "slideshow": {
          "slide_type": "slide"
        }
      }
    },
    {
      "id": "healthy-pastor",
      "cell_type": "code",
      "source": "anova_table = sm.stats.anova_lm(region_valence_res)\nanova_table",
      "metadata": {
        "slideshow": {
          "slide_type": "fragment"
        }
      },
      "outputs": [
        {
          "data": {
            "text/html": [
              "<div>\n",
              "<style scoped>\n",
              "    .dataframe tbody tr th:only-of-type {\n",
              "        vertical-align: middle;\n",
              "    }\n",
              "\n",
              "    .dataframe tbody tr th {\n",
              "        vertical-align: top;\n",
              "    }\n",
              "\n",
              "    .dataframe thead th {\n",
              "        text-align: right;\n",
              "    }\n",
              "</style>\n",
              "<table border=\"1\" class=\"dataframe\">\n",
              "  <thead>\n",
              "    <tr style=\"text-align: right;\">\n",
              "      <th></th>\n",
              "      <th>df</th>\n",
              "      <th>sum_sq</th>\n",
              "      <th>mean_sq</th>\n",
              "      <th>F</th>\n",
              "      <th>PR(&gt;F)</th>\n",
              "    </tr>\n",
              "  </thead>\n",
              "  <tbody>\n",
              "    <tr>\n",
              "      <th>C(region)</th>\n",
              "      <td>8.0</td>\n",
              "      <td>538.003711</td>\n",
              "      <td>67.250464</td>\n",
              "      <td>1527.271332</td>\n",
              "      <td>0.0</td>\n",
              "    </tr>\n",
              "    <tr>\n",
              "      <th>Residual</th>\n",
              "      <td>273591.0</td>\n",
              "      <td>12047.054952</td>\n",
              "      <td>0.044033</td>\n",
              "      <td>NaN</td>\n",
              "      <td>NaN</td>\n",
              "    </tr>\n",
              "  </tbody>\n",
              "</table>\n",
              "</div>"
            ],
            "text/plain": [
              "                 df        sum_sq    mean_sq            F  PR(>F)\n",
              "C(region)       8.0    538.003711  67.250464  1527.271332     0.0\n",
              "Residual   273591.0  12047.054952   0.044033          NaN     NaN"
            ]
          },
          "execution_count": 35,
          "metadata": {},
          "output_type": "execute_result"
        }
      ],
      "execution_count": 35
    },
    {
      "id": "controlling-elite",
      "cell_type": "markdown",
      "source": "* How is the table interpreted?\n\n* Remember that in ANOVA we want to compare the variance within groups relative to the variance between groups.",
      "metadata": {
        "slideshow": {
          "slide_type": "slide"
        }
      }
    },
    {
      "id": "severe-class",
      "cell_type": "markdown",
      "source": "* To estimate the variation between groups, we start by calculating the sum of the squares of the difference of the mean of each group $i$ from the overall mean:\n\n$$ (\\bar{x_i} - \\bar{x})^2 $$\n\n* Then we multiply each sum by the number of elements of each group:\n\n$$ n_i(\\bar{x_i} - \\bar{x})^2 $$\n\n* Then we add the sums for all our groups, $k$:\n\n$$ \\sum_{i=1}^{k} n_i(\\bar{x_i} - \\bar{x})^2 $$",
      "metadata": {
        "slideshow": {
          "slide_type": "slide"
        }
      }
    },
    {
      "id": "brave-indian",
      "cell_type": "markdown",
      "source": "* To estimate the variation between groups, we start by calculating the sum of the squares of the difference of the mean of each group $i$ from the overall mean:\n\n$$ (\\bar{x_i} - \\bar{x})^2 $$\n\n* Then we multiply each sum by the number of elements of each group:\n\n$$ n_i(\\bar{x_i} - \\bar{x})^2 $$\n\n* Then we add the sums for all our groups, even $k$:\n\n$$ \\sum_{i=1}^{k} n_i(\\bar{x_i} - \\bar{x})^2 $$",
      "metadata": {
        "slideshow": {
          "slide_type": "slide"
        }
      }
    },
    {
      "id": "indonesian-chile",
      "cell_type": "code",
      "source": "anova_table",
      "metadata": {
        "slideshow": {
          "slide_type": "fragment"
        }
      },
      "outputs": [
        {
          "data": {
            "text/html": [
              "<div>\n",
              "<style scoped>\n",
              "    .dataframe tbody tr th:only-of-type {\n",
              "        vertical-align: middle;\n",
              "    }\n",
              "\n",
              "    .dataframe tbody tr th {\n",
              "        vertical-align: top;\n",
              "    }\n",
              "\n",
              "    .dataframe thead th {\n",
              "        text-align: right;\n",
              "    }\n",
              "</style>\n",
              "<table border=\"1\" class=\"dataframe\">\n",
              "  <thead>\n",
              "    <tr style=\"text-align: right;\">\n",
              "      <th></th>\n",
              "      <th>df</th>\n",
              "      <th>sum_sq</th>\n",
              "      <th>mean_sq</th>\n",
              "      <th>F</th>\n",
              "      <th>PR(&gt;F)</th>\n",
              "    </tr>\n",
              "  </thead>\n",
              "  <tbody>\n",
              "    <tr>\n",
              "      <th>C(region)</th>\n",
              "      <td>8.0</td>\n",
              "      <td>538.003711</td>\n",
              "      <td>67.250464</td>\n",
              "      <td>1527.271332</td>\n",
              "      <td>0.0</td>\n",
              "    </tr>\n",
              "    <tr>\n",
              "      <th>Residual</th>\n",
              "      <td>273591.0</td>\n",
              "      <td>12047.054952</td>\n",
              "      <td>0.044033</td>\n",
              "      <td>NaN</td>\n",
              "      <td>NaN</td>\n",
              "    </tr>\n",
              "  </tbody>\n",
              "</table>\n",
              "</div>"
            ],
            "text/plain": [
              "                 df        sum_sq    mean_sq            F  PR(>F)\n",
              "C(region)       8.0    538.003711  67.250464  1527.271332     0.0\n",
              "Residual   273591.0  12047.054952   0.044033          NaN     NaN"
            ]
          },
          "execution_count": 36,
          "metadata": {},
          "output_type": "execute_result"
        }
      ],
      "execution_count": 36
    },
    {
      "id": "juvenile-committee",
      "cell_type": "markdown",
      "source": "* We divide the `sum_sq` we have found by the corresponding *degrees of freedom*.\n\n* Degrees of freedom measure how many of the entities we manipulate are free or independent of each other.\n\n* Here we work with group averages and overall average.\n\n* If we have $k$ groups and we know the averages of $k - 1$ groups and the general average, from them we can also find the other average that we don't know.\n\n* So for $k$ groups $k-1$ averages can vary freely. The other mean is derived from $k-1$ and the general term.\n\n* So for $k$ groups we have $k - 1$ degrees of freedom.\n\n* This displays the `df` column in the first row of the ANOVA table.",
      "metadata": {
        "slideshow": {
          "slide_type": "slide"
        }
      }
    },
    {
      "id": "finite-guess",
      "cell_type": "code",
      "source": "anova_table",
      "metadata": {
        "slideshow": {
          "slide_type": "fragment"
        }
      },
      "outputs": [
        {
          "data": {
            "text/html": [
              "<div>\n",
              "<style scoped>\n",
              "    .dataframe tbody tr th:only-of-type {\n",
              "        vertical-align: middle;\n",
              "    }\n",
              "\n",
              "    .dataframe tbody tr th {\n",
              "        vertical-align: top;\n",
              "    }\n",
              "\n",
              "    .dataframe thead th {\n",
              "        text-align: right;\n",
              "    }\n",
              "</style>\n",
              "<table border=\"1\" class=\"dataframe\">\n",
              "  <thead>\n",
              "    <tr style=\"text-align: right;\">\n",
              "      <th></th>\n",
              "      <th>df</th>\n",
              "      <th>sum_sq</th>\n",
              "      <th>mean_sq</th>\n",
              "      <th>F</th>\n",
              "      <th>PR(&gt;F)</th>\n",
              "    </tr>\n",
              "  </thead>\n",
              "  <tbody>\n",
              "    <tr>\n",
              "      <th>C(region)</th>\n",
              "      <td>8.0</td>\n",
              "      <td>538.003711</td>\n",
              "      <td>67.250464</td>\n",
              "      <td>1527.271332</td>\n",
              "      <td>0.0</td>\n",
              "    </tr>\n",
              "    <tr>\n",
              "      <th>Residual</th>\n",
              "      <td>273591.0</td>\n",
              "      <td>12047.054952</td>\n",
              "      <td>0.044033</td>\n",
              "      <td>NaN</td>\n",
              "      <td>NaN</td>\n",
              "    </tr>\n",
              "  </tbody>\n",
              "</table>\n",
              "</div>"
            ],
            "text/plain": [
              "                 df        sum_sq    mean_sq            F  PR(>F)\n",
              "C(region)       8.0    538.003711  67.250464  1527.271332     0.0\n",
              "Residual   273591.0  12047.054952   0.044033          NaN     NaN"
            ]
          },
          "execution_count": 37,
          "metadata": {},
          "output_type": "execute_result"
        }
      ],
      "execution_count": 37
    },
    {
      "id": "streaming-dominican",
      "cell_type": "markdown",
      "source": "* We divide `sum_sq` by `df` in the first line, so we get the mean sum of squares, `mean_sq`.\n\n* `mean_sq` in the first line is the estimate of the variance between groups.",
      "metadata": {
        "slideshow": {
          "slide_type": "slide"
        }
      }
    },
    {
      "id": "pleased-treatment",
      "cell_type": "code",
      "source": "anova_table",
      "metadata": {
        "slideshow": {
          "slide_type": "fragment"
        }
      },
      "outputs": [
        {
          "data": {
            "text/html": [
              "<div>\n",
              "<style scoped>\n",
              "    .dataframe tbody tr th:only-of-type {\n",
              "        vertical-align: middle;\n",
              "    }\n",
              "\n",
              "    .dataframe tbody tr th {\n",
              "        vertical-align: top;\n",
              "    }\n",
              "\n",
              "    .dataframe thead th {\n",
              "        text-align: right;\n",
              "    }\n",
              "</style>\n",
              "<table border=\"1\" class=\"dataframe\">\n",
              "  <thead>\n",
              "    <tr style=\"text-align: right;\">\n",
              "      <th></th>\n",
              "      <th>df</th>\n",
              "      <th>sum_sq</th>\n",
              "      <th>mean_sq</th>\n",
              "      <th>F</th>\n",
              "      <th>PR(&gt;F)</th>\n",
              "    </tr>\n",
              "  </thead>\n",
              "  <tbody>\n",
              "    <tr>\n",
              "      <th>C(region)</th>\n",
              "      <td>8.0</td>\n",
              "      <td>538.003711</td>\n",
              "      <td>67.250464</td>\n",
              "      <td>1527.271332</td>\n",
              "      <td>0.0</td>\n",
              "    </tr>\n",
              "    <tr>\n",
              "      <th>Residual</th>\n",
              "      <td>273591.0</td>\n",
              "      <td>12047.054952</td>\n",
              "      <td>0.044033</td>\n",
              "      <td>NaN</td>\n",
              "      <td>NaN</td>\n",
              "    </tr>\n",
              "  </tbody>\n",
              "</table>\n",
              "</div>"
            ],
            "text/plain": [
              "                 df        sum_sq    mean_sq            F  PR(>F)\n",
              "C(region)       8.0    538.003711  67.250464  1527.271332     0.0\n",
              "Residual   273591.0  12047.054952   0.044033          NaN     NaN"
            ]
          },
          "execution_count": 38,
          "metadata": {},
          "output_type": "execute_result"
        }
      ],
      "execution_count": 38
    },
    {
      "id": "ceramic-disposition",
      "cell_type": "markdown",
      "source": "* We proceed to variation within groups.\n\n* To estimate it, we start with the squares of the difference of each observation $j$ from each group $i$ , $x_{ij}$ , from the group mean.\n\n$$ (x_{ij} - \\bar{x_i})^2 $$\n\n* Then we add the squares:\n\n$$ \\sum_{i=1}^{k}\\sum_{j=1}^{n_i} (x_{ij} - \\bar{x_i})^2 $$\n\n\n* This appears in the `sum_sq' column in the second row of the ANOVA table and is called the *inside groups sum of squares*.",
      "metadata": {
        "slideshow": {
          "slide_type": "slide"
        }
      }
    },
    {
      "id": "nonprofit-specialist",
      "cell_type": "code",
      "source": "anova_table",
      "metadata": {
        "slideshow": {
          "slide_type": "fragment"
        }
      },
      "outputs": [
        {
          "data": {
            "text/html": [
              "<div>\n",
              "<style scoped>\n",
              "    .dataframe tbody tr th:only-of-type {\n",
              "        vertical-align: middle;\n",
              "    }\n",
              "\n",
              "    .dataframe tbody tr th {\n",
              "        vertical-align: top;\n",
              "    }\n",
              "\n",
              "    .dataframe thead th {\n",
              "        text-align: right;\n",
              "    }\n",
              "</style>\n",
              "<table border=\"1\" class=\"dataframe\">\n",
              "  <thead>\n",
              "    <tr style=\"text-align: right;\">\n",
              "      <th></th>\n",
              "      <th>df</th>\n",
              "      <th>sum_sq</th>\n",
              "      <th>mean_sq</th>\n",
              "      <th>F</th>\n",
              "      <th>PR(&gt;F)</th>\n",
              "    </tr>\n",
              "  </thead>\n",
              "  <tbody>\n",
              "    <tr>\n",
              "      <th>C(region)</th>\n",
              "      <td>8.0</td>\n",
              "      <td>538.003711</td>\n",
              "      <td>67.250464</td>\n",
              "      <td>1527.271332</td>\n",
              "      <td>0.0</td>\n",
              "    </tr>\n",
              "    <tr>\n",
              "      <th>Residual</th>\n",
              "      <td>273591.0</td>\n",
              "      <td>12047.054952</td>\n",
              "      <td>0.044033</td>\n",
              "      <td>NaN</td>\n",
              "      <td>NaN</td>\n",
              "    </tr>\n",
              "  </tbody>\n",
              "</table>\n",
              "</div>"
            ],
            "text/plain": [
              "                 df        sum_sq    mean_sq            F  PR(>F)\n",
              "C(region)       8.0    538.003711  67.250464  1527.271332     0.0\n",
              "Residual   273591.0  12047.054952   0.044033          NaN     NaN"
            ]
          },
          "execution_count": 39,
          "metadata": {},
          "output_type": "execute_result"
        }
      ],
      "execution_count": 39
    },
    {
      "id": "twelve-camera",
      "cell_type": "markdown",
      "source": "* We divide it within the `sum_sq` groups again by the corresponding degrees of freedom.\n\n* In each group, each observation can be derived from the remaining observations and the mean, so the degrees of freedom of each group are $n_i - 1$.\n\n* So if we have $k$ groups, the degrees of freedom within the groups are $n - k$, where $n$ is our total number of observations.\n\n* This displays the `df` column in the second row of the ANOVA table.",
      "metadata": {
        "slideshow": {
          "slide_type": "slide"
        }
      }
    },
    {
      "id": "cleared-naples",
      "cell_type": "code",
      "source": "anova_table",
      "metadata": {
        "slideshow": {
          "slide_type": "fragment"
        }
      },
      "outputs": [
        {
          "data": {
            "text/html": [
              "<div>\n",
              "<style scoped>\n",
              "    .dataframe tbody tr th:only-of-type {\n",
              "        vertical-align: middle;\n",
              "    }\n",
              "\n",
              "    .dataframe tbody tr th {\n",
              "        vertical-align: top;\n",
              "    }\n",
              "\n",
              "    .dataframe thead th {\n",
              "        text-align: right;\n",
              "    }\n",
              "</style>\n",
              "<table border=\"1\" class=\"dataframe\">\n",
              "  <thead>\n",
              "    <tr style=\"text-align: right;\">\n",
              "      <th></th>\n",
              "      <th>df</th>\n",
              "      <th>sum_sq</th>\n",
              "      <th>mean_sq</th>\n",
              "      <th>F</th>\n",
              "      <th>PR(&gt;F)</th>\n",
              "    </tr>\n",
              "  </thead>\n",
              "  <tbody>\n",
              "    <tr>\n",
              "      <th>C(region)</th>\n",
              "      <td>8.0</td>\n",
              "      <td>538.003711</td>\n",
              "      <td>67.250464</td>\n",
              "      <td>1527.271332</td>\n",
              "      <td>0.0</td>\n",
              "    </tr>\n",
              "    <tr>\n",
              "      <th>Residual</th>\n",
              "      <td>273591.0</td>\n",
              "      <td>12047.054952</td>\n",
              "      <td>0.044033</td>\n",
              "      <td>NaN</td>\n",
              "      <td>NaN</td>\n",
              "    </tr>\n",
              "  </tbody>\n",
              "</table>\n",
              "</div>"
            ],
            "text/plain": [
              "                 df        sum_sq    mean_sq            F  PR(>F)\n",
              "C(region)       8.0    538.003711  67.250464  1527.271332     0.0\n",
              "Residual   273591.0  12047.054952   0.044033          NaN     NaN"
            ]
          },
          "execution_count": 40,
          "metadata": {},
          "output_type": "execute_result"
        }
      ],
      "execution_count": 40
    },
    {
      "id": "polyphonic-extent",
      "cell_type": "markdown",
      "source": "* We divide `sum_sq` by `df` on the second line, so we get the mean sum of squares, `mean_sq`.\n\n* `mean_sq` in the second line is the estimate for the variance within groups.",
      "metadata": {
        "slideshow": {
          "slide_type": "slide"
        }
      }
    },
    {
      "id": "generous-console",
      "cell_type": "code",
      "source": "anova_table",
      "metadata": {
        "slideshow": {
          "slide_type": "fragment"
        }
      },
      "outputs": [
        {
          "data": {
            "text/html": [
              "<div>\n",
              "<style scoped>\n",
              "    .dataframe tbody tr th:only-of-type {\n",
              "        vertical-align: middle;\n",
              "    }\n",
              "\n",
              "    .dataframe tbody tr th {\n",
              "        vertical-align: top;\n",
              "    }\n",
              "\n",
              "    .dataframe thead th {\n",
              "        text-align: right;\n",
              "    }\n",
              "</style>\n",
              "<table border=\"1\" class=\"dataframe\">\n",
              "  <thead>\n",
              "    <tr style=\"text-align: right;\">\n",
              "      <th></th>\n",
              "      <th>df</th>\n",
              "      <th>sum_sq</th>\n",
              "      <th>mean_sq</th>\n",
              "      <th>F</th>\n",
              "      <th>PR(&gt;F)</th>\n",
              "    </tr>\n",
              "  </thead>\n",
              "  <tbody>\n",
              "    <tr>\n",
              "      <th>C(region)</th>\n",
              "      <td>8.0</td>\n",
              "      <td>538.003711</td>\n",
              "      <td>67.250464</td>\n",
              "      <td>1527.271332</td>\n",
              "      <td>0.0</td>\n",
              "    </tr>\n",
              "    <tr>\n",
              "      <th>Residual</th>\n",
              "      <td>273591.0</td>\n",
              "      <td>12047.054952</td>\n",
              "      <td>0.044033</td>\n",
              "      <td>NaN</td>\n",
              "      <td>NaN</td>\n",
              "    </tr>\n",
              "  </tbody>\n",
              "</table>\n",
              "</div>"
            ],
            "text/plain": [
              "                 df        sum_sq    mean_sq            F  PR(>F)\n",
              "C(region)       8.0    538.003711  67.250464  1527.271332     0.0\n",
              "Residual   273591.0  12047.054952   0.044033          NaN     NaN"
            ]
          },
          "execution_count": 41,
          "metadata": {},
          "output_type": "execute_result"
        }
      ],
      "execution_count": 41
    },
    {
      "id": "animal-reform",
      "cell_type": "markdown",
      "source": "* Η μετρική `F` στην τέταρτη στήλη είναι ο λόγος του `mean_sq` της πρώτης γραμμής με το `mean_sq` της δεύτερης γραμμής.",
      "metadata": {
        "slideshow": {
          "slide_type": "slide"
        }
      }
    },
    {
      "id": "surrounded-matrix",
      "cell_type": "code",
      "source": "anova_table",
      "metadata": {
        "slideshow": {
          "slide_type": "fragment"
        }
      },
      "outputs": [
        {
          "data": {
            "text/html": [
              "<div>\n",
              "<style scoped>\n",
              "    .dataframe tbody tr th:only-of-type {\n",
              "        vertical-align: middle;\n",
              "    }\n",
              "\n",
              "    .dataframe tbody tr th {\n",
              "        vertical-align: top;\n",
              "    }\n",
              "\n",
              "    .dataframe thead th {\n",
              "        text-align: right;\n",
              "    }\n",
              "</style>\n",
              "<table border=\"1\" class=\"dataframe\">\n",
              "  <thead>\n",
              "    <tr style=\"text-align: right;\">\n",
              "      <th></th>\n",
              "      <th>df</th>\n",
              "      <th>sum_sq</th>\n",
              "      <th>mean_sq</th>\n",
              "      <th>F</th>\n",
              "      <th>PR(&gt;F)</th>\n",
              "    </tr>\n",
              "  </thead>\n",
              "  <tbody>\n",
              "    <tr>\n",
              "      <th>C(region)</th>\n",
              "      <td>8.0</td>\n",
              "      <td>538.003711</td>\n",
              "      <td>67.250464</td>\n",
              "      <td>1527.271332</td>\n",
              "      <td>0.0</td>\n",
              "    </tr>\n",
              "    <tr>\n",
              "      <th>Residual</th>\n",
              "      <td>273591.0</td>\n",
              "      <td>12047.054952</td>\n",
              "      <td>0.044033</td>\n",
              "      <td>NaN</td>\n",
              "      <td>NaN</td>\n",
              "    </tr>\n",
              "  </tbody>\n",
              "</table>\n",
              "</div>"
            ],
            "text/plain": [
              "                 df        sum_sq    mean_sq            F  PR(>F)\n",
              "C(region)       8.0    538.003711  67.250464  1527.271332     0.0\n",
              "Residual   273591.0  12047.054952   0.044033          NaN     NaN"
            ]
          },
          "execution_count": 42,
          "metadata": {},
          "output_type": "execute_result"
        }
      ],
      "execution_count": 42
    }
  ]
}