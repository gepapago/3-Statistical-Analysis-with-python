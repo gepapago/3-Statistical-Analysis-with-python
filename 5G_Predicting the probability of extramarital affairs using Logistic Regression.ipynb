{
  "metadata": {
    "kernelspec": {
      "name": "python",
      "display_name": "Python (Pyodide)",
      "language": "python"
    },
    "language_info": {
      "codemirror_mode": {
        "name": "python",
        "version": 3
      },
      "file_extension": ".py",
      "mimetype": "text/x-python",
      "name": "python",
      "nbconvert_exporter": "python",
      "pygments_lexer": "ipython3",
      "version": "3.8"
    },
    "celltoolbar": "Slideshow"
  },
  "nbformat_minor": 4,
  "nbformat": 4,
  "cells": [
    {
      "cell_type": "markdown",
      "source": "# Predicting the probability of extramarital affairs using Logistic Regression\n### When the dependent variable is binomial, meaning it takes only two distinct values ​​0 and 1, we cannot use the regression we have seen. This is because regression works under the assumption that the dependent variable is continuous. Then we use *logistic regression*.",
      "metadata": {
        "slideshow": {
          "slide_type": "slide"
        }
      }
    },
    {
      "cell_type": "markdown",
      "source": "* We'll start with an example from Wikipedia (https://en.wikipedia.org/wiki/Logistic_regression#Probability_of_passing_an_exam_versus_hours_of_study).\n\n* Suppose we have data for a set of students.\n\n* The independent variable (`hours`) is the number of hours a student has spent studying for a course exam.\n\n* The dependent variable (`passed') indicates whether the student passed ($1$) or failed ($0$).",
      "metadata": {
        "slideshow": {
          "slide_type": "slide"
        }
      }
    },
    {
      "cell_type": "code",
      "source": "import pandas as pd\nimport statsmodels.api as sm\nimport statsmodels.formula.api as smf\nimport matplotlib.pyplot as plt\nimport numpy as np\nfrom plotnine import *",
      "metadata": {
        "slideshow": {
          "slide_type": "slide"
        }
      },
      "outputs": [],
      "execution_count": 1
    },
    {
      "cell_type": "code",
      "source": "hours = [\n    0.5, 0.75, 1.00, 1.25, 1.50, 1.75, 1.75, \n    2.00, 2.25, 2.50, 2.75, 3.00, 3.25, 3.50,  \n    4.00, 4.25, 4.50, 4.75, 5.00, 5.50\n]\n\npassed = [0, 0, 0, 0, 0, 0, 1, 0, 1, 0, 1, 0, 1, 0, 1, 1, 1, 1, 1, 1]\n\nstudents = pd.DataFrame({'hours' : hours, 'passed': passed})\nstudents.sample(5)",
      "metadata": {
        "slideshow": {
          "slide_type": "slide"
        }
      },
      "outputs": [
        {
          "data": {
            "text/html": [
              "<div>\n",
              "<style scoped>\n",
              "    .dataframe tbody tr th:only-of-type {\n",
              "        vertical-align: middle;\n",
              "    }\n",
              "\n",
              "    .dataframe tbody tr th {\n",
              "        vertical-align: top;\n",
              "    }\n",
              "\n",
              "    .dataframe thead th {\n",
              "        text-align: right;\n",
              "    }\n",
              "</style>\n",
              "<table border=\"1\" class=\"dataframe\">\n",
              "  <thead>\n",
              "    <tr style=\"text-align: right;\">\n",
              "      <th></th>\n",
              "      <th>hours</th>\n",
              "      <th>passed</th>\n",
              "    </tr>\n",
              "  </thead>\n",
              "  <tbody>\n",
              "    <tr>\n",
              "      <th>2</th>\n",
              "      <td>1.00</td>\n",
              "      <td>0</td>\n",
              "    </tr>\n",
              "    <tr>\n",
              "      <th>17</th>\n",
              "      <td>4.75</td>\n",
              "      <td>1</td>\n",
              "    </tr>\n",
              "    <tr>\n",
              "      <th>5</th>\n",
              "      <td>1.75</td>\n",
              "      <td>0</td>\n",
              "    </tr>\n",
              "    <tr>\n",
              "      <th>7</th>\n",
              "      <td>2.00</td>\n",
              "      <td>0</td>\n",
              "    </tr>\n",
              "    <tr>\n",
              "      <th>0</th>\n",
              "      <td>0.50</td>\n",
              "      <td>0</td>\n",
              "    </tr>\n",
              "  </tbody>\n",
              "</table>\n",
              "</div>"
            ],
            "text/plain": [
              "    hours  passed\n",
              "2    1.00       0\n",
              "17   4.75       1\n",
              "5    1.75       0\n",
              "7    2.00       0\n",
              "0    0.50       0"
            ]
          },
          "execution_count": 2,
          "metadata": {},
          "output_type": "execute_result"
        }
      ],
      "execution_count": 2
    },
    {
      "cell_type": "markdown",
      "source": "* If we make a diagram, we will see that there is no point in trying to find a line that fits the data.",
      "metadata": {
        "slideshow": {
          "slide_type": "slide"
        }
      }
    },
    {
      "cell_type": "code",
      "source": "ggplot(data=students) + geom_point(aes(x='hours', y='passed'))",
      "metadata": {
        "slideshow": {
          "slide_type": "fragment"
        }
      },
      "outputs": [
        {
          "data": {
            "image/png": "[encoded data removed]",
            "text/plain": [
              "<Figure size 640x480 with 1 Axes>"
            ]
          },
          "metadata": {},
          "output_type": "display_data"
        },
        {
          "data": {
            "text/plain": [
              "<ggplot: (331482299)>"
            ]
          },
          "execution_count": 3,
          "metadata": {},
          "output_type": "execute_result"
        }
      ],
      "execution_count": 3
    },
    {
      "cell_type": "markdown",
      "source": "* If we use linear regression, we find a moderate $R^2$, but an intercept that is not statistically significant.",
      "metadata": {
        "slideshow": {
          "slide_type": "slide"
        }
      }
    },
    {
      "cell_type": "code",
      "source": "students_mod = smf.ols(\"passed ~ hours\", data=students)\nstudents_res = students_mod.fit()\nstudents_res.summary()",
      "metadata": {
        "slideshow": {
          "slide_type": "fragment"
        }
      },
      "outputs": [
        {
          "data": {
            "text/html": [
              "<table class=\"simpletable\">\n",
              "<caption>OLS Regression Results</caption>\n",
              "<tr>\n",
              "  <th>Dep. Variable:</th>         <td>passed</td>      <th>  R-squared:         </th> <td>   0.475</td>\n",
              "</tr>\n",
              "<tr>\n",
              "  <th>Model:</th>                   <td>OLS</td>       <th>  Adj. R-squared:    </th> <td>   0.446</td>\n",
              "</tr>\n",
              "<tr>\n",
              "  <th>Method:</th>             <td>Least Squares</td>  <th>  F-statistic:       </th> <td>   16.29</td>\n",
              "</tr>\n",
              "<tr>\n",
              "  <th>Date:</th>             <td>Thu, 16 Dec 2021</td> <th>  Prob (F-statistic):</th> <td>0.000775</td>\n",
              "</tr>\n",
              "<tr>\n",
              "  <th>Time:</th>                 <td>18:16:51</td>     <th>  Log-Likelihood:    </th> <td> -8.0712</td>\n",
              "</tr>\n",
              "<tr>\n",
              "  <th>No. Observations:</th>      <td>    20</td>      <th>  AIC:               </th> <td>   20.14</td>\n",
              "</tr>\n",
              "<tr>\n",
              "  <th>Df Residuals:</th>          <td>    18</td>      <th>  BIC:               </th> <td>   22.13</td>\n",
              "</tr>\n",
              "<tr>\n",
              "  <th>Df Model:</th>              <td>     1</td>      <th>                     </th>     <td> </td>   \n",
              "</tr>\n",
              "<tr>\n",
              "  <th>Covariance Type:</th>      <td>nonrobust</td>    <th>                     </th>     <td> </td>   \n",
              "</tr>\n",
              "</table>\n",
              "<table class=\"simpletable\">\n",
              "<tr>\n",
              "      <td></td>         <th>coef</th>     <th>std err</th>      <th>t</th>      <th>P>|t|</th>  <th>[0.025</th>    <th>0.975]</th>  \n",
              "</tr>\n",
              "<tr>\n",
              "  <th>Intercept</th> <td>   -0.1539</td> <td>    0.183</td> <td>   -0.840</td> <td> 0.412</td> <td>   -0.539</td> <td>    0.231</td>\n",
              "</tr>\n",
              "<tr>\n",
              "  <th>hours</th>     <td>    0.2346</td> <td>    0.058</td> <td>    4.036</td> <td> 0.001</td> <td>    0.112</td> <td>    0.357</td>\n",
              "</tr>\n",
              "</table>\n",
              "<table class=\"simpletable\">\n",
              "<tr>\n",
              "  <th>Omnibus:</th>       <td> 0.367</td> <th>  Durbin-Watson:     </th> <td>   3.416</td>\n",
              "</tr>\n",
              "<tr>\n",
              "  <th>Prob(Omnibus):</th> <td> 0.832</td> <th>  Jarque-Bera (JB):  </th> <td>   0.381</td>\n",
              "</tr>\n",
              "<tr>\n",
              "  <th>Skew:</th>          <td> 0.270</td> <th>  Prob(JB):          </th> <td>   0.827</td>\n",
              "</tr>\n",
              "<tr>\n",
              "  <th>Kurtosis:</th>      <td> 2.594</td> <th>  Cond. No.          </th> <td>    7.30</td>\n",
              "</tr>\n",
              "</table><br/><br/>Notes:<br/>[1] Standard Errors assume that the covariance matrix of the errors is correctly specified."
            ],
            "text/plain": [
              "<class 'statsmodels.iolib.summary.Summary'>\n",
              "\"\"\"\n",
              "                            OLS Regression Results                            \n",
              "==============================================================================\n",
              "Dep. Variable:                 passed   R-squared:                       0.475\n",
              "Model:                            OLS   Adj. R-squared:                  0.446\n",
              "Method:                 Least Squares   F-statistic:                     16.29\n",
              "Date:                Thu, 16 Dec 2021   Prob (F-statistic):           0.000775\n",
              "Time:                        18:16:51   Log-Likelihood:                -8.0712\n",
              "No. Observations:                  20   AIC:                             20.14\n",
              "Df Residuals:                      18   BIC:                             22.13\n",
              "Df Model:                           1                                         \n",
              "Covariance Type:            nonrobust                                         \n",
              "==============================================================================\n",
              "                 coef    std err          t      P>|t|      [0.025      0.975]\n",
              "------------------------------------------------------------------------------\n",
              "Intercept     -0.1539      0.183     -0.840      0.412      -0.539       0.231\n",
              "hours          0.2346      0.058      4.036      0.001       0.112       0.357\n",
              "==============================================================================\n",
              "Omnibus:                        0.367   Durbin-Watson:                   3.416\n",
              "Prob(Omnibus):                  0.832   Jarque-Bera (JB):                0.381\n",
              "Skew:                           0.270   Prob(JB):                        0.827\n",
              "Kurtosis:                       2.594   Cond. No.                         7.30\n",
              "==============================================================================\n",
              "\n",
              "Notes:\n",
              "[1] Standard Errors assume that the covariance matrix of the errors is correctly specified.\n",
              "\"\"\""
            ]
          },
          "execution_count": 4,
          "metadata": {},
          "output_type": "execute_result"
        }
      ],
      "execution_count": 4
    },
    {
      "cell_type": "markdown",
      "source": "* By plotting the regression results, we can understand where the problem is.\n\n* The variable `passed' is binary, but we treat it as a continuous.",
      "metadata": {
        "slideshow": {
          "slide_type": "slide"
        }
      }
    },
    {
      "cell_type": "markdown",
      "source": "* So the regression line tells us things like \"the student who studied 3 hours has passed about 0.50\".\n\n* But whether you pass the course or not, there is no \"about 0.50 passed\".",
      "metadata": {
        "slideshow": {
          "slide_type": "slide"
        }
      }
    },
    {
      "cell_type": "code",
      "source": "ggplot(data=students) +\\\n    geom_point(aes(x='hours', y='passed')) +\\\n    geom_abline(intercept=students_res.params['Intercept'],\n               slope=students_res.params['hours'])",
      "metadata": {
        "slideshow": {
          "slide_type": "fragment"
        }
      },
      "outputs": [
        {
          "data": {
            "image/png": "[encoded data removed]",
            "text/plain": [
              "<Figure size 640x480 with 1 Axes>"
            ]
          },
          "metadata": {},
          "output_type": "display_data"
        },
        {
          "data": {
            "text/plain": [
              "<ggplot: (331605221)>"
            ]
          },
          "execution_count": 5,
          "metadata": {},
          "output_type": "execute_result"
        }
      ],
      "execution_count": 5
    },
    {
      "cell_type": "markdown",
      "source": "* To overcome the problem, instead of trying to predict the variable `passed' we will turn our attention to the probability of passing the exam with $x$ hours of study.\n\n* The probability of passing the exam with $x$ study hours is $p(x)$.\n\n* The reason\n\n $$\\frac{p(x)}{1 - p(x)}$$\n\n is called *odds ratio* or *relative probability*.",
      "metadata": {
        "slideshow": {
          "slide_type": "slide"
        }
      }
    },
    {
      "cell_type": "markdown",
      "source": "* If we take the logarithm of the relative probability we arrive at the so-called *logistic transformation* (logit, logistic transformation):\n\n$$ \\mathrm{logit}(p(x)) = \\ln\\frac{p(x)}{1 - p(x)} $$\n\n* We then want to find the model parameters:\n\n $$ y = \\alpha + \\beta x,\\quad y = \\ln\\frac{p(x)}{1 - p(x)} $$\n\n namely:\n\n $$ \\mathrm{logit}(p(x)) = \\ln\\frac{p(x)}{1 - p(x)} = \\alpha + \\beta x $$",
      "metadata": {
        "slideshow": {
          "slide_type": "slide"
        }
      }
    },
    {
      "cell_type": "markdown",
      "source": "* Why do we really do this?\n\n* Because if we solve the last equation in terms of $p(x)$ we get:\n\n$$ p(x) = \\frac {1}{1+e^{-(\\alpha + \\beta x)}} $$",
      "metadata": {
        "slideshow": {
          "slide_type": "slide"
        }
      }
    },
    {
      "cell_type": "markdown",
      "source": "* This function looks like an S. That's why it's called a *sigmoid function*.\n\n* This function can fit (definitely better than the straight line) data that takes two values ​​0 and 1.",
      "metadata": {
        "slideshow": {
          "slide_type": "slide"
        }
      }
    },
    {
      "cell_type": "code",
      "source": "fig = plt.figure(figsize=(8,6))\nax = fig.add_subplot(111)\nx = np.linspace(-5, 5,100)\ny = 1 / (1 + np.exp(-x))\nax.plot(x, y)\nax.grid(True)",
      "metadata": {
        "slideshow": {
          "slide_type": "fragment"
        }
      },
      "outputs": [
        {
          "data": {
            "image/png": "[encoded data removed]",
            "text/plain": [
              "<Figure size 576x432 with 1 Axes>"
            ]
          },
          "metadata": {
            "needs_background": "light"
          },
          "output_type": "display_data"
        }
      ],
      "execution_count": 6
    },
    {
      "cell_type": "markdown",
      "source": "* In statsmodels we use the `logit()` function to do logistic regression.",
      "metadata": {
        "slideshow": {
          "slide_type": "slide"
        }
      }
    },
    {
      "cell_type": "code",
      "source": "from statsmodels.formula.api import logit\nstudents_logit_mod = logit(\"passed ~ hours\", data=students)\nstudents_logit_res = students_logit_mod.fit()\n\nstudents_logit_res.summary()",
      "metadata": {
        "slideshow": {
          "slide_type": "fragment"
        }
      },
      "outputs": [
        {
          "name": "stdout",
          "output_type": "stream",
          "text": [
            "Optimization terminated successfully.\n",
            "         Current function value: 0.401494\n",
            "         Iterations 7\n"
          ]
        },
        {
          "data": {
            "text/html": [
              "<table class=\"simpletable\">\n",
              "<caption>Logit Regression Results</caption>\n",
              "<tr>\n",
              "  <th>Dep. Variable:</th>        <td>passed</td>      <th>  No. Observations:  </th>  <td>    20</td>  \n",
              "</tr>\n",
              "<tr>\n",
              "  <th>Model:</th>                 <td>Logit</td>      <th>  Df Residuals:      </th>  <td>    18</td>  \n",
              "</tr>\n",
              "<tr>\n",
              "  <th>Method:</th>                 <td>MLE</td>       <th>  Df Model:          </th>  <td>     1</td>  \n",
              "</tr>\n",
              "<tr>\n",
              "  <th>Date:</th>            <td>Thu, 16 Dec 2021</td> <th>  Pseudo R-squ.:     </th>  <td>0.4208</td>  \n",
              "</tr>\n",
              "<tr>\n",
              "  <th>Time:</th>                <td>18:16:51</td>     <th>  Log-Likelihood:    </th> <td> -8.0299</td> \n",
              "</tr>\n",
              "<tr>\n",
              "  <th>converged:</th>             <td>True</td>       <th>  LL-Null:           </th> <td> -13.863</td> \n",
              "</tr>\n",
              "<tr>\n",
              "  <th>Covariance Type:</th>     <td>nonrobust</td>    <th>  LLR p-value:       </th> <td>0.0006365</td>\n",
              "</tr>\n",
              "</table>\n",
              "<table class=\"simpletable\">\n",
              "<tr>\n",
              "      <td></td>         <th>coef</th>     <th>std err</th>      <th>z</th>      <th>P>|z|</th>  <th>[0.025</th>    <th>0.975]</th>  \n",
              "</tr>\n",
              "<tr>\n",
              "  <th>Intercept</th> <td>   -4.0777</td> <td>    1.761</td> <td>   -2.316</td> <td> 0.021</td> <td>   -7.529</td> <td>   -0.626</td>\n",
              "</tr>\n",
              "<tr>\n",
              "  <th>hours</th>     <td>    1.5046</td> <td>    0.629</td> <td>    2.393</td> <td> 0.017</td> <td>    0.272</td> <td>    2.737</td>\n",
              "</tr>\n",
              "</table>"
            ],
            "text/plain": [
              "<class 'statsmodels.iolib.summary.Summary'>\n",
              "\"\"\"\n",
              "                           Logit Regression Results                           \n",
              "==============================================================================\n",
              "Dep. Variable:                 passed   No. Observations:                   20\n",
              "Model:                          Logit   Df Residuals:                       18\n",
              "Method:                           MLE   Df Model:                            1\n",
              "Date:                Thu, 16 Dec 2021   Pseudo R-squ.:                  0.4208\n",
              "Time:                        18:16:51   Log-Likelihood:                -8.0299\n",
              "converged:                       True   LL-Null:                       -13.863\n",
              "Covariance Type:            nonrobust   LLR p-value:                 0.0006365\n",
              "==============================================================================\n",
              "                 coef    std err          z      P>|z|      [0.025      0.975]\n",
              "------------------------------------------------------------------------------\n",
              "Intercept     -4.0777      1.761     -2.316      0.021      -7.529      -0.626\n",
              "hours          1.5046      0.629      2.393      0.017       0.272       2.737\n",
              "==============================================================================\n",
              "\"\"\""
            ]
          },
          "execution_count": 7,
          "metadata": {},
          "output_type": "execute_result"
        }
      ],
      "execution_count": 7
    },
    {
      "cell_type": "markdown",
      "source": "* To get the model predictions:",
      "metadata": {
        "slideshow": {
          "slide_type": "slide"
        }
      }
    },
    {
      "cell_type": "code",
      "source": "passed_predicted = students_logit_res.predict(students['hours'])\npassed_predicted",
      "metadata": {
        "slideshow": {
          "slide_type": "fragment"
        }
      },
      "outputs": [
        {
          "data": {
            "text/plain": [
              "0     0.034710\n",
              "1     0.049773\n",
              "2     0.070892\n",
              "3     0.100029\n",
              "4     0.139344\n",
              "5     0.190837\n",
              "6     0.190837\n",
              "7     0.255703\n",
              "8     0.333530\n",
              "9     0.421627\n",
              "10    0.515011\n",
              "11    0.607359\n",
              "12    0.692617\n",
              "13    0.766481\n",
              "14    0.874448\n",
              "15    0.910278\n",
              "16    0.936624\n",
              "17    0.955611\n",
              "18    0.969097\n",
              "19    0.985194\n",
              "dtype: float64"
            ]
          },
          "execution_count": 8,
          "metadata": {},
          "output_type": "execute_result"
        }
      ],
      "execution_count": 8
    },
    {
      "cell_type": "markdown",
      "source": "* If we now plot the predictions and the data, we will indeed see that the sigmoid function approximates them.\n\n* Note that on the $y$ axis we do not have a binary variable, but a continuous variable, the probability of passing the exam.",
      "metadata": {
        "slideshow": {
          "slide_type": "slide"
        }
      }
    },
    {
      "cell_type": "code",
      "source": "ggplot(data=students) +\\\n    geom_point(aes(x='hours', y='passed')) +\\\n    geom_line(aes(x='hours'), y=passed_predicted) +\\\n    labs(y='probability of passing the exam', x='hours studied')",
      "metadata": {
        "slideshow": {
          "slide_type": "fragment"
        }
      },
      "outputs": [
        {
          "data": {
            "image/png": "[encoded data removed]",
            "text/plain": [
              "<Figure size 640x480 with 1 Axes>"
            ]
          },
          "metadata": {},
          "output_type": "display_data"
        },
        {
          "data": {
            "text/plain": [
              "<ggplot: (331687039)>"
            ]
          },
          "execution_count": 9,
          "metadata": {},
          "output_type": "execute_result"
        }
      ],
      "execution_count": 9
    },
    {
      "cell_type": "markdown",
      "source": "* To understand exactly what the model's findings mean, let's go back to the summary of results.",
      "metadata": {
        "slideshow": {
          "slide_type": "slide"
        }
      }
    },
    {
      "cell_type": "code",
      "source": "students_logit_res.summary()",
      "metadata": {
        "slideshow": {
          "slide_type": "fragment"
        }
      },
      "outputs": [
        {
          "data": {
            "text/html": [
              "<table class=\"simpletable\">\n",
              "<caption>Logit Regression Results</caption>\n",
              "<tr>\n",
              "  <th>Dep. Variable:</th>        <td>passed</td>      <th>  No. Observations:  </th>  <td>    20</td>  \n",
              "</tr>\n",
              "<tr>\n",
              "  <th>Model:</th>                 <td>Logit</td>      <th>  Df Residuals:      </th>  <td>    18</td>  \n",
              "</tr>\n",
              "<tr>\n",
              "  <th>Method:</th>                 <td>MLE</td>       <th>  Df Model:          </th>  <td>     1</td>  \n",
              "</tr>\n",
              "<tr>\n",
              "  <th>Date:</th>            <td>Thu, 16 Dec 2021</td> <th>  Pseudo R-squ.:     </th>  <td>0.4208</td>  \n",
              "</tr>\n",
              "<tr>\n",
              "  <th>Time:</th>                <td>18:16:51</td>     <th>  Log-Likelihood:    </th> <td> -8.0299</td> \n",
              "</tr>\n",
              "<tr>\n",
              "  <th>converged:</th>             <td>True</td>       <th>  LL-Null:           </th> <td> -13.863</td> \n",
              "</tr>\n",
              "<tr>\n",
              "  <th>Covariance Type:</th>     <td>nonrobust</td>    <th>  LLR p-value:       </th> <td>0.0006365</td>\n",
              "</tr>\n",
              "</table>\n",
              "<table class=\"simpletable\">\n",
              "<tr>\n",
              "      <td></td>         <th>coef</th>     <th>std err</th>      <th>z</th>      <th>P>|z|</th>  <th>[0.025</th>    <th>0.975]</th>  \n",
              "</tr>\n",
              "<tr>\n",
              "  <th>Intercept</th> <td>   -4.0777</td> <td>    1.761</td> <td>   -2.316</td> <td> 0.021</td> <td>   -7.529</td> <td>   -0.626</td>\n",
              "</tr>\n",
              "<tr>\n",
              "  <th>hours</th>     <td>    1.5046</td> <td>    0.629</td> <td>    2.393</td> <td> 0.017</td> <td>    0.272</td> <td>    2.737</td>\n",
              "</tr>\n",
              "</table>"
            ],
            "text/plain": [
              "<class 'statsmodels.iolib.summary.Summary'>\n",
              "\"\"\"\n",
              "                           Logit Regression Results                           \n",
              "==============================================================================\n",
              "Dep. Variable:                 passed   No. Observations:                   20\n",
              "Model:                          Logit   Df Residuals:                       18\n",
              "Method:                           MLE   Df Model:                            1\n",
              "Date:                Thu, 16 Dec 2021   Pseudo R-squ.:                  0.4208\n",
              "Time:                        18:16:51   Log-Likelihood:                -8.0299\n",
              "converged:                       True   LL-Null:                       -13.863\n",
              "Covariance Type:            nonrobust   LLR p-value:                 0.0006365\n",
              "==============================================================================\n",
              "                 coef    std err          z      P>|z|      [0.025      0.975]\n",
              "------------------------------------------------------------------------------\n",
              "Intercept     -4.0777      1.761     -2.316      0.021      -7.529      -0.626\n",
              "hours          1.5046      0.629      2.393      0.017       0.272       2.737\n",
              "==============================================================================\n",
              "\"\"\""
            ]
          },
          "execution_count": 10,
          "metadata": {},
          "output_type": "execute_result"
        }
      ],
      "execution_count": 10
    },
    {
      "cell_type": "markdown",
      "source": "* Logistic regression does not work with the least squares method, but with the *maximum likelihood* method.\n\n* That's why there is no $R^2$.\n\n* There is a pseudo-$R^2$, which is called McFadden's pseudo-$R^2$.\n\n* Pseudo-$R^2$ can have much lower values ​​than $R^2$: values ​​from $0{,}2$ to $0{,}4$ can correspond to a very good model.\n\n* Log-Likelihood, LL-Null, LLR p-value are also metrics that help us evaluate the model.",
      "metadata": {
        "slideshow": {
          "slide_type": "slide"
        }
      }
    },
    {
      "cell_type": "markdown",
      "source": "* Results show that studying is related to exam success.\n\n* The logarithm of the relative odds is:\n\n$$ \\ln{\\frac{p(x)}{1 - p(x)}} = -4{,}0777 + 1{,}5046 x $$\n\n* With a null read, the logarithm of the relative odds is equal to $-4{,}0777$.\n\n* An additional hour of study increases the log of the relative odds by $1{,}5046$.",
      "metadata": {
        "slideshow": {
          "slide_type": "slide"
        }
      }
    },
    {
      "cell_type": "markdown",
      "source": "* If we take the logarithm we get:\n\n$$ \\frac{p(x)}{1 - p(x)} = \\exp{(-4{,}0777 + 1{,}5046 x)} = e^{(-4{,}0777 + 1{,}5046 x)}$$\n\n* So an extra hour of study multiplies the relative chances of success by $e^{1{,}5046} \\approx 4{,}5$.\n\n* With a zero read, the relative success probabilities are $e^{-4{,}0777} \\approx 0{,}017 = 1{,}7\\%$.",
      "metadata": {
        "slideshow": {
          "slide_type": "slide"
        }
      }
    },
    {
      "cell_type": "markdown",
      "source": "* Solving in terms of $p(x)$ we have:\n\n$$ p(x) = \\frac{1}{1 + e^{(4{,}0777 - 1{,}5046x)}} $$\n\n* Thus, we can calculate the probability of success for different hours of study.\n\n* Looks like the study is paying off!",
      "metadata": {
        "slideshow": {
          "slide_type": "slide"
        }
      }
    },
    {
      "cell_type": "code",
      "source": "study_hours = np.arange(1, 6)\nintercept = students_logit_res.params['Intercept']\nhours_coeff = students_logit_res.params['hours']\nprobability_passing = 1 / (1 + np.exp(-(intercept + hours_coeff*study_hours)))\nprint('study hours', study_hours)\nprint('probability of passing', probability_passing)",
      "metadata": {
        "slideshow": {
          "slide_type": "fragment"
        }
      },
      "outputs": [
        {
          "name": "stdout",
          "output_type": "stream",
          "text": [
            "study hours [1 2 3 4 5]\n",
            "probability of passing [0.07089196 0.25570318 0.60735865 0.8744475  0.96909707]\n"
          ]
        }
      ],
      "execution_count": 11
    },
    {
      "cell_type": "markdown",
      "source": "* If we have more than one independent variable, we can apply multiple logistic regression.\n\n* We will use data from a 1974 survey of extramarital affairs in the US.",
      "metadata": {
        "slideshow": {
          "slide_type": "slide"
        }
      }
    },
    {
      "cell_type": "code",
      "source": "print(sm.datasets.fair.SOURCE)",
      "metadata": {
        "slideshow": {
          "slide_type": "fragment"
        }
      },
      "outputs": [
        {
          "name": "stdout",
          "output_type": "stream",
          "text": [
            "\n",
            "Fair, Ray. 1978. \"A Theory of Extramarital Affairs,\" `Journal of Political\n",
            "Economy`, February, 45-61.\n",
            "\n",
            "The data is available at http://fairmodel.econ.yale.edu/rayfair/pdf/2011b.htm\n",
            "\n"
          ]
        }
      ],
      "execution_count": 12
    },
    {
      "cell_type": "code",
      "source": "print(sm.datasets.fair.NOTE[8:]) # get rid of empty lines",
      "metadata": {
        "slideshow": {
          "slide_type": "slide"
        }
      },
      "outputs": [
        {
          "name": "stdout",
          "output_type": "stream",
          "text": [
            "Number of observations: 6366\n",
            "    Number of variables: 9\n",
            "    Variable name definitions:\n",
            "\n",
            "        rate_marriage   : How rate marriage, 1 = very poor, 2 = poor, 3 = fair,\n",
            "                        4 = good, 5 = very good\n",
            "        age             : Age\n",
            "        yrs_married     : No. years married. Interval approximations. See\n",
            "                        original paper for detailed explanation.\n",
            "        children        : No. children\n",
            "        religious       : How relgious, 1 = not, 2 = mildly, 3 = fairly,\n",
            "                        4 = strongly\n",
            "        educ            : Level of education, 9 = grade school, 12 = high\n",
            "                        school, 14 = some college, 16 = college graduate,\n",
            "                        17 = some graduate school, 20 = advanced degree\n",
            "        occupation      : 1 = student, 2 = farming, agriculture; semi-skilled,\n",
            "                        or unskilled worker; 3 = white-colloar; 4 = teacher\n",
            "                        counselor social worker, nurse; artist, writers;\n",
            "                        technician, skilled worker, 5 = managerial,\n",
            "                        administrative, business, 6 = professional with\n",
            "                        advanced degree\n",
            "        occupation_husb : Husband's occupation. Same as occupation.\n",
            "        affairs         : measure of time spent in extramarital affairs\n",
            "\n",
            "    See the original paper for more details.\n",
            "\n"
          ]
        }
      ],
      "execution_count": 13
    },
    {
      "cell_type": "markdown",
      "source": "* We will read the data and create a new binary variable `affair` that will indicate whether or not there is an extramarital affair.\n\n* Specifically, if present the value of `affair` will be 1, otherwise it will be 0.",
      "metadata": {
        "slideshow": {
          "slide_type": "slide"
        }
      }
    },
    {
      "cell_type": "code",
      "source": "affair_df = sm.datasets.fair.load_pandas().data\n\naffair_df['affair'] = (affair_df['affairs'] > 0).astype(float)\naffair_df.sort_values(by='affair', inplace=True)\naffair_df.reset_index(inplace=True, drop=True)\naffair_df.sample(10)",
      "metadata": {
        "slideshow": {
          "slide_type": "slide"
        }
      },
      "outputs": [
        {
          "data": {
            "text/html": [
              "<div>\n",
              "<style scoped>\n",
              "    .dataframe tbody tr th:only-of-type {\n",
              "        vertical-align: middle;\n",
              "    }\n",
              "\n",
              "    .dataframe tbody tr th {\n",
              "        vertical-align: top;\n",
              "    }\n",
              "\n",
              "    .dataframe thead th {\n",
              "        text-align: right;\n",
              "    }\n",
              "</style>\n",
              "<table border=\"1\" class=\"dataframe\">\n",
              "  <thead>\n",
              "    <tr style=\"text-align: right;\">\n",
              "      <th></th>\n",
              "      <th>rate_marriage</th>\n",
              "      <th>age</th>\n",
              "      <th>yrs_married</th>\n",
              "      <th>children</th>\n",
              "      <th>religious</th>\n",
              "      <th>educ</th>\n",
              "      <th>occupation</th>\n",
              "      <th>occupation_husb</th>\n",
              "      <th>affairs</th>\n",
              "      <th>affair</th>\n",
              "    </tr>\n",
              "  </thead>\n",
              "  <tbody>\n",
              "    <tr>\n",
              "      <th>1157</th>\n",
              "      <td>5.0</td>\n",
              "      <td>17.5</td>\n",
              "      <td>0.5</td>\n",
              "      <td>0.0</td>\n",
              "      <td>3.0</td>\n",
              "      <td>12.0</td>\n",
              "      <td>3.0</td>\n",
              "      <td>2.0</td>\n",
              "      <td>0.000000</td>\n",
              "      <td>0.0</td>\n",
              "    </tr>\n",
              "    <tr>\n",
              "      <th>3953</th>\n",
              "      <td>4.0</td>\n",
              "      <td>27.0</td>\n",
              "      <td>2.5</td>\n",
              "      <td>0.0</td>\n",
              "      <td>3.0</td>\n",
              "      <td>14.0</td>\n",
              "      <td>3.0</td>\n",
              "      <td>5.0</td>\n",
              "      <td>0.000000</td>\n",
              "      <td>0.0</td>\n",
              "    </tr>\n",
              "    <tr>\n",
              "      <th>3249</th>\n",
              "      <td>5.0</td>\n",
              "      <td>27.0</td>\n",
              "      <td>6.0</td>\n",
              "      <td>0.0</td>\n",
              "      <td>1.0</td>\n",
              "      <td>16.0</td>\n",
              "      <td>5.0</td>\n",
              "      <td>5.0</td>\n",
              "      <td>0.000000</td>\n",
              "      <td>0.0</td>\n",
              "    </tr>\n",
              "    <tr>\n",
              "      <th>1747</th>\n",
              "      <td>5.0</td>\n",
              "      <td>22.0</td>\n",
              "      <td>2.5</td>\n",
              "      <td>0.0</td>\n",
              "      <td>2.0</td>\n",
              "      <td>14.0</td>\n",
              "      <td>3.0</td>\n",
              "      <td>5.0</td>\n",
              "      <td>0.000000</td>\n",
              "      <td>0.0</td>\n",
              "    </tr>\n",
              "    <tr>\n",
              "      <th>998</th>\n",
              "      <td>3.0</td>\n",
              "      <td>22.0</td>\n",
              "      <td>2.5</td>\n",
              "      <td>0.0</td>\n",
              "      <td>1.0</td>\n",
              "      <td>14.0</td>\n",
              "      <td>3.0</td>\n",
              "      <td>2.0</td>\n",
              "      <td>0.000000</td>\n",
              "      <td>0.0</td>\n",
              "    </tr>\n",
              "    <tr>\n",
              "      <th>5962</th>\n",
              "      <td>4.0</td>\n",
              "      <td>27.0</td>\n",
              "      <td>9.0</td>\n",
              "      <td>2.0</td>\n",
              "      <td>1.0</td>\n",
              "      <td>17.0</td>\n",
              "      <td>4.0</td>\n",
              "      <td>5.0</td>\n",
              "      <td>2.177776</td>\n",
              "      <td>1.0</td>\n",
              "    </tr>\n",
              "    <tr>\n",
              "      <th>6108</th>\n",
              "      <td>5.0</td>\n",
              "      <td>42.0</td>\n",
              "      <td>23.0</td>\n",
              "      <td>3.0</td>\n",
              "      <td>2.0</td>\n",
              "      <td>14.0</td>\n",
              "      <td>3.0</td>\n",
              "      <td>5.0</td>\n",
              "      <td>0.852174</td>\n",
              "      <td>1.0</td>\n",
              "    </tr>\n",
              "    <tr>\n",
              "      <th>666</th>\n",
              "      <td>4.0</td>\n",
              "      <td>27.0</td>\n",
              "      <td>2.5</td>\n",
              "      <td>0.0</td>\n",
              "      <td>3.0</td>\n",
              "      <td>17.0</td>\n",
              "      <td>5.0</td>\n",
              "      <td>5.0</td>\n",
              "      <td>0.000000</td>\n",
              "      <td>0.0</td>\n",
              "    </tr>\n",
              "    <tr>\n",
              "      <th>3873</th>\n",
              "      <td>4.0</td>\n",
              "      <td>37.0</td>\n",
              "      <td>23.0</td>\n",
              "      <td>5.5</td>\n",
              "      <td>2.0</td>\n",
              "      <td>12.0</td>\n",
              "      <td>3.0</td>\n",
              "      <td>2.0</td>\n",
              "      <td>0.000000</td>\n",
              "      <td>0.0</td>\n",
              "    </tr>\n",
              "    <tr>\n",
              "      <th>4845</th>\n",
              "      <td>4.0</td>\n",
              "      <td>27.0</td>\n",
              "      <td>6.0</td>\n",
              "      <td>0.0</td>\n",
              "      <td>2.0</td>\n",
              "      <td>12.0</td>\n",
              "      <td>3.0</td>\n",
              "      <td>4.0</td>\n",
              "      <td>4.666666</td>\n",
              "      <td>1.0</td>\n",
              "    </tr>\n",
              "  </tbody>\n",
              "</table>\n",
              "</div>"
            ],
            "text/plain": [
              "      rate_marriage   age  yrs_married  children  religious  educ  occupation  \\\n",
              "1157            5.0  17.5          0.5       0.0        3.0  12.0         3.0   \n",
              "3953            4.0  27.0          2.5       0.0        3.0  14.0         3.0   \n",
              "3249            5.0  27.0          6.0       0.0        1.0  16.0         5.0   \n",
              "1747            5.0  22.0          2.5       0.0        2.0  14.0         3.0   \n",
              "998             3.0  22.0          2.5       0.0        1.0  14.0         3.0   \n",
              "5962            4.0  27.0          9.0       2.0        1.0  17.0         4.0   \n",
              "6108            5.0  42.0         23.0       3.0        2.0  14.0         3.0   \n",
              "666             4.0  27.0          2.5       0.0        3.0  17.0         5.0   \n",
              "3873            4.0  37.0         23.0       5.5        2.0  12.0         3.0   \n",
              "4845            4.0  27.0          6.0       0.0        2.0  12.0         3.0   \n",
              "\n",
              "      occupation_husb   affairs  affair  \n",
              "1157              2.0  0.000000     0.0  \n",
              "3953              5.0  0.000000     0.0  \n",
              "3249              5.0  0.000000     0.0  \n",
              "1747              5.0  0.000000     0.0  \n",
              "998               2.0  0.000000     0.0  \n",
              "5962              5.0  2.177776     1.0  \n",
              "6108              5.0  0.852174     1.0  \n",
              "666               5.0  0.000000     0.0  \n",
              "3873              2.0  0.000000     0.0  \n",
              "4845              4.0  4.666666     1.0  "
            ]
          },
          "execution_count": 14,
          "metadata": {},
          "output_type": "execute_result"
        }
      ],
      "execution_count": 14
    },
    {
      "cell_type": "markdown",
      "source": "* Before we proceed, let's get an overview.\n\n* What is the overall probability of an extramarital affair?",
      "metadata": {
        "slideshow": {
          "slide_type": "slide"
        }
      }
    },
    {
      "cell_type": "code",
      "source": "affair_df['affair'].sum() / affair_df['affair'].count()",
      "metadata": {
        "slideshow": {
          "slide_type": "fragment"
        }
      },
      "outputs": [
        {
          "data": {
            "text/plain": [
              "0.3224945020420987"
            ]
          },
          "execution_count": 15,
          "metadata": {},
          "output_type": "execute_result"
        }
      ],
      "execution_count": 15
    },
    {
      "cell_type": "markdown",
      "source": "* But we want to go deeper.\n\n* For this purpose we will do logistic regression.\n\n* The dependent variable will be the `affair` column we created.",
      "metadata": {
        "slideshow": {
          "slide_type": "slide"
        }
      }
    },
    {
      "cell_type": "code",
      "source": "affair_mod = logit(\"affair ~ occupation + educ + occupation_husb\"\n                   \" + rate_marriage + age + yrs_married + children\"\n                   \" + religious\", affair_df).fit()\n\naffair_mod.summary()",
      "metadata": {
        "slideshow": {
          "slide_type": "slide"
        }
      },
      "outputs": [
        {
          "name": "stdout",
          "output_type": "stream",
          "text": [
            "Optimization terminated successfully.\n",
            "         Current function value: 0.545314\n",
            "         Iterations 6\n"
          ]
        },
        {
          "data": {
            "text/html": [
              "<table class=\"simpletable\">\n",
              "<caption>Logit Regression Results</caption>\n",
              "<tr>\n",
              "  <th>Dep. Variable:</th>        <td>affair</td>      <th>  No. Observations:  </th>   <td>  6366</td>  \n",
              "</tr>\n",
              "<tr>\n",
              "  <th>Model:</th>                 <td>Logit</td>      <th>  Df Residuals:      </th>   <td>  6357</td>  \n",
              "</tr>\n",
              "<tr>\n",
              "  <th>Method:</th>                 <td>MLE</td>       <th>  Df Model:          </th>   <td>     8</td>  \n",
              "</tr>\n",
              "<tr>\n",
              "  <th>Date:</th>            <td>Thu, 16 Dec 2021</td> <th>  Pseudo R-squ.:     </th>   <td>0.1327</td>  \n",
              "</tr>\n",
              "<tr>\n",
              "  <th>Time:</th>                <td>18:16:51</td>     <th>  Log-Likelihood:    </th>  <td> -3471.5</td> \n",
              "</tr>\n",
              "<tr>\n",
              "  <th>converged:</th>             <td>True</td>       <th>  LL-Null:           </th>  <td> -4002.5</td> \n",
              "</tr>\n",
              "<tr>\n",
              "  <th>Covariance Type:</th>     <td>nonrobust</td>    <th>  LLR p-value:       </th> <td>5.807e-224</td>\n",
              "</tr>\n",
              "</table>\n",
              "<table class=\"simpletable\">\n",
              "<tr>\n",
              "         <td></td>            <th>coef</th>     <th>std err</th>      <th>z</th>      <th>P>|z|</th>  <th>[0.025</th>    <th>0.975]</th>  \n",
              "</tr>\n",
              "<tr>\n",
              "  <th>Intercept</th>       <td>    3.7257</td> <td>    0.299</td> <td>   12.470</td> <td> 0.000</td> <td>    3.140</td> <td>    4.311</td>\n",
              "</tr>\n",
              "<tr>\n",
              "  <th>occupation</th>      <td>    0.1602</td> <td>    0.034</td> <td>    4.717</td> <td> 0.000</td> <td>    0.094</td> <td>    0.227</td>\n",
              "</tr>\n",
              "<tr>\n",
              "  <th>educ</th>            <td>   -0.0392</td> <td>    0.015</td> <td>   -2.533</td> <td> 0.011</td> <td>   -0.070</td> <td>   -0.009</td>\n",
              "</tr>\n",
              "<tr>\n",
              "  <th>occupation_husb</th> <td>    0.0124</td> <td>    0.023</td> <td>    0.541</td> <td> 0.589</td> <td>   -0.033</td> <td>    0.057</td>\n",
              "</tr>\n",
              "<tr>\n",
              "  <th>rate_marriage</th>   <td>   -0.7161</td> <td>    0.031</td> <td>  -22.784</td> <td> 0.000</td> <td>   -0.778</td> <td>   -0.655</td>\n",
              "</tr>\n",
              "<tr>\n",
              "  <th>age</th>             <td>   -0.0605</td> <td>    0.010</td> <td>   -5.885</td> <td> 0.000</td> <td>   -0.081</td> <td>   -0.040</td>\n",
              "</tr>\n",
              "<tr>\n",
              "  <th>yrs_married</th>     <td>    0.1100</td> <td>    0.011</td> <td>   10.054</td> <td> 0.000</td> <td>    0.089</td> <td>    0.131</td>\n",
              "</tr>\n",
              "<tr>\n",
              "  <th>children</th>        <td>   -0.0042</td> <td>    0.032</td> <td>   -0.134</td> <td> 0.893</td> <td>   -0.066</td> <td>    0.058</td>\n",
              "</tr>\n",
              "<tr>\n",
              "  <th>religious</th>       <td>   -0.3752</td> <td>    0.035</td> <td>  -10.792</td> <td> 0.000</td> <td>   -0.443</td> <td>   -0.307</td>\n",
              "</tr>\n",
              "</table>"
            ],
            "text/plain": [
              "<class 'statsmodels.iolib.summary.Summary'>\n",
              "\"\"\"\n",
              "                           Logit Regression Results                           \n",
              "==============================================================================\n",
              "Dep. Variable:                 affair   No. Observations:                 6366\n",
              "Model:                          Logit   Df Residuals:                     6357\n",
              "Method:                           MLE   Df Model:                            8\n",
              "Date:                Thu, 16 Dec 2021   Pseudo R-squ.:                  0.1327\n",
              "Time:                        18:16:51   Log-Likelihood:                -3471.5\n",
              "converged:                       True   LL-Null:                       -4002.5\n",
              "Covariance Type:            nonrobust   LLR p-value:                5.807e-224\n",
              "===================================================================================\n",
              "                      coef    std err          z      P>|z|      [0.025      0.975]\n",
              "-----------------------------------------------------------------------------------\n",
              "Intercept           3.7257      0.299     12.470      0.000       3.140       4.311\n",
              "occupation          0.1602      0.034      4.717      0.000       0.094       0.227\n",
              "educ               -0.0392      0.015     -2.533      0.011      -0.070      -0.009\n",
              "occupation_husb     0.0124      0.023      0.541      0.589      -0.033       0.057\n",
              "rate_marriage      -0.7161      0.031    -22.784      0.000      -0.778      -0.655\n",
              "age                -0.0605      0.010     -5.885      0.000      -0.081      -0.040\n",
              "yrs_married         0.1100      0.011     10.054      0.000       0.089       0.131\n",
              "children           -0.0042      0.032     -0.134      0.893      -0.066       0.058\n",
              "religious          -0.3752      0.035    -10.792      0.000      -0.443      -0.307\n",
              "===================================================================================\n",
              "\"\"\""
            ]
          },
          "execution_count": 16,
          "metadata": {},
          "output_type": "execute_result"
        }
      ],
      "execution_count": 16
    },
    {
      "cell_type": "markdown",
      "source": "* A one-unit increase in the type of employment increases by $0{,}1602$ the logarithm of the relative probability of having an extramarital relationship.\n\n* Equivalently, the relative probability increases by $e^{0{,}1602} \\approx 1{,}1737$ or about $17\\%$.",
      "metadata": {
        "slideshow": {
          "slide_type": "slide"
        }
      }
    },
    {
      "cell_type": "code",
      "source": "affair_mod.params['occupation']",
      "metadata": {
        "slideshow": {
          "slide_type": "fragment"
        }
      },
      "outputs": [
        {
          "data": {
            "text/plain": [
              "0.16023383319081705"
            ]
          },
          "execution_count": 17,
          "metadata": {},
          "output_type": "execute_result"
        }
      ],
      "execution_count": 17
    },
    {
      "cell_type": "markdown",
      "source": "* An additional year of marriage increases by $0{,}11$ the logarithm of the relative probability of having an extramarital affair.\n\n* Equivalently, the relative probability increases by $e^{0{,}11} \\approx 1{,}12 $ or about $12\\%$ .",
      "metadata": {
        "slideshow": {
          "slide_type": "slide"
        }
      }
    },
    {
      "cell_type": "code",
      "source": "affair_mod.params['yrs_married']",
      "metadata": {
        "slideshow": {
          "slide_type": "fragment"
        }
      },
      "outputs": [
        {
          "data": {
            "text/plain": [
              "0.11001794098252028"
            ]
          },
          "execution_count": 18,
          "metadata": {},
          "output_type": "execute_result"
        }
      ],
      "execution_count": 18
    },
    {
      "cell_type": "markdown",
      "source": "* A one-unit increase in marriage assessment reduces the logarithm of the relative probability of having an extramarital affair by $0{,}7161$.\n\n* Equivalently, since $e^{-0{,}7161} \\approx 0{,}4886$, the relative probability of having an extramarital affair is reduced by about $100 - 0{,}4886 \\approx 51\\%$.",
      "metadata": {
        "slideshow": {
          "slide_type": "slide"
        }
      }
    },
    {
      "cell_type": "code",
      "source": "affair_mod.params['rate_marriage']",
      "metadata": {
        "slideshow": {
          "slide_type": "fragment"
        }
      },
      "outputs": [
        {
          "data": {
            "text/plain": [
              "-0.7161071050802287"
            ]
          },
          "execution_count": 19,
          "metadata": {},
          "output_type": "execute_result"
        }
      ],
      "execution_count": 19
    },
    {
      "cell_type": "markdown",
      "source": "* A one-unit increase in religiosity reduces by $0{,}3752$ the logarithm of the relative probability of having an extramarital affair.\n\n* Equivalently, since $e^{-0{,}3752} \\approx 0{,}6872$, the relative probability of having an extramarital affair decreases by about $100 - 68{,}72 \\approx 31\\%$.",
      "metadata": {
        "slideshow": {
          "slide_type": "slide"
        }
      }
    },
    {
      "cell_type": "code",
      "source": "affair_mod.params['religious']",
      "metadata": {
        "slideshow": {
          "slide_type": "fragment"
        }
      },
      "outputs": [
        {
          "data": {
            "text/plain": [
              "-0.3751576526839532"
            ]
          },
          "execution_count": 20,
          "metadata": {},
          "output_type": "execute_result"
        }
      ],
      "execution_count": 20
    }
  ]
}